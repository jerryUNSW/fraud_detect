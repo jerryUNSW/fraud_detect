{
 "cells": [
  {
   "cell_type": "code",
   "execution_count": 67,
   "metadata": {},
   "outputs": [],
   "source": [
    "import numpy as np\n",
    "import pandas as pd\n",
    "import matplotlib as plt\n",
    "import json\n",
    "import re\n",
    "import seaborn as sns"
   ]
  },
  {
   "cell_type": "code",
   "execution_count": 68,
   "metadata": {},
   "outputs": [
    {
     "data": {
      "text/html": [
       "<div>\n",
       "<style scoped>\n",
       "    .dataframe tbody tr th:only-of-type {\n",
       "        vertical-align: middle;\n",
       "    }\n",
       "\n",
       "    .dataframe tbody tr th {\n",
       "        vertical-align: top;\n",
       "    }\n",
       "\n",
       "    .dataframe thead th {\n",
       "        text-align: right;\n",
       "    }\n",
       "</style>\n",
       "<table border=\"1\" class=\"dataframe\">\n",
       "  <thead>\n",
       "    <tr style=\"text-align: right;\">\n",
       "      <th></th>\n",
       "      <th>case</th>\n",
       "      <th>platform</th>\n",
       "      <th>tag</th>\n",
       "      <th>timeStamp</th>\n",
       "      <th>customer_id</th>\n",
       "    </tr>\n",
       "  </thead>\n",
       "  <tbody>\n",
       "    <tr>\n",
       "      <th>0</th>\n",
       "      <td>e6cd8ce31a1d4d6</td>\n",
       "      <td>mobile_browser</td>\n",
       "      <td>Claim_Deined</td>\n",
       "      <td>1.483203e+09</td>\n",
       "      <td>99ccf1</td>\n",
       "    </tr>\n",
       "    <tr>\n",
       "      <th>1</th>\n",
       "      <td>e67b69c9b4554c0</td>\n",
       "      <td>pc_browser</td>\n",
       "      <td>Claim_Deined</td>\n",
       "      <td>1.483204e+09</td>\n",
       "      <td>b7aab4</td>\n",
       "    </tr>\n",
       "    <tr>\n",
       "      <th>2</th>\n",
       "      <td>58891c5466d240b</td>\n",
       "      <td>pc_browser</td>\n",
       "      <td>Claim_Deined</td>\n",
       "      <td>1.483211e+09</td>\n",
       "      <td>2bc68b</td>\n",
       "    </tr>\n",
       "    <tr>\n",
       "      <th>3</th>\n",
       "      <td>94270be3a7f440a</td>\n",
       "      <td>mobile_browser</td>\n",
       "      <td>Claim_Deined</td>\n",
       "      <td>1.483218e+09</td>\n",
       "      <td>48802d</td>\n",
       "    </tr>\n",
       "    <tr>\n",
       "      <th>4</th>\n",
       "      <td>a699b8150503414</td>\n",
       "      <td>pc_browser</td>\n",
       "      <td>Claim_Deined</td>\n",
       "      <td>1.483223e+09</td>\n",
       "      <td>3b8ce8</td>\n",
       "    </tr>\n",
       "  </tbody>\n",
       "</table>\n",
       "</div>"
      ],
      "text/plain": [
       "               case          platform           tag     timeStamp customer_id\n",
       "0  e6cd8ce31a1d4d6    mobile_browser   Claim_Deined  1.483203e+09      99ccf1\n",
       "1  e67b69c9b4554c0        pc_browser   Claim_Deined  1.483204e+09      b7aab4\n",
       "2  58891c5466d240b        pc_browser   Claim_Deined  1.483211e+09      2bc68b\n",
       "3  94270be3a7f440a    mobile_browser   Claim_Deined  1.483218e+09      48802d\n",
       "4  a699b8150503414        pc_browser   Claim_Deined  1.483223e+09      3b8ce8"
      ]
     },
     "execution_count": 68,
     "metadata": {},
     "output_type": "execute_result"
    }
   ],
   "source": [
    "claim_denied = pd.read_csv('claim_denied.txt',header = None, sep='-')\n",
    "claim_denied.columns = ['case','platform','tag','other']\n",
    "claim_denied['timeStamp'] = claim_denied.other.map(lambda x: float(x.split(',')[-1]))\n",
    "claim_denied['customer_id'] = claim_denied.tag.map(lambda x: x.split(':')[-1].strip())\n",
    "claim_denied.tag =  \"Claim_Deined\"\n",
    "del claim_denied['other']\n",
    "claim_denied.head()"
   ]
  },
  {
   "cell_type": "code",
   "execution_count": 69,
   "metadata": {},
   "outputs": [],
   "source": [
    "payment_completed = pd.read_csv(\"payment_completed_basic.txt\",\n",
    "                             header = None,\n",
    "                             names = ['case' ,'platform', 'customer_id', 'timeStamp'])\n",
    "payment_completed['tag'] = \"Payment_Completed\""
   ]
  },
  {
   "cell_type": "code",
   "execution_count": 70,
   "metadata": {},
   "outputs": [
    {
     "data": {
      "text/html": [
       "<div>\n",
       "<style scoped>\n",
       "    .dataframe tbody tr th:only-of-type {\n",
       "        vertical-align: middle;\n",
       "    }\n",
       "\n",
       "    .dataframe tbody tr th {\n",
       "        vertical-align: top;\n",
       "    }\n",
       "\n",
       "    .dataframe thead th {\n",
       "        text-align: right;\n",
       "    }\n",
       "</style>\n",
       "<table border=\"1\" class=\"dataframe\">\n",
       "  <thead>\n",
       "    <tr style=\"text-align: right;\">\n",
       "      <th></th>\n",
       "      <th>case</th>\n",
       "      <th>paid_amount</th>\n",
       "      <th>platform</th>\n",
       "      <th>customer_id</th>\n",
       "      <th>timeStamp</th>\n",
       "      <th>tag</th>\n",
       "    </tr>\n",
       "  </thead>\n",
       "  <tbody>\n",
       "    <tr>\n",
       "      <th>0</th>\n",
       "      <td>ea0f160a58c3496</td>\n",
       "      <td>19720.15</td>\n",
       "      <td>pc_browser</td>\n",
       "      <td>9bae09</td>\n",
       "      <td>1.483211e+09</td>\n",
       "      <td>Claim_Accepted</td>\n",
       "    </tr>\n",
       "    <tr>\n",
       "      <th>1</th>\n",
       "      <td>3be3afe8a7b04c5</td>\n",
       "      <td>13928.65</td>\n",
       "      <td>pc_browser</td>\n",
       "      <td>3d476d</td>\n",
       "      <td>1.483228e+09</td>\n",
       "      <td>Claim_Accepted</td>\n",
       "    </tr>\n",
       "    <tr>\n",
       "      <th>2</th>\n",
       "      <td>68ad8febf880477</td>\n",
       "      <td>15241.79</td>\n",
       "      <td>mobile_browser</td>\n",
       "      <td>dbbf0f</td>\n",
       "      <td>1.483304e+09</td>\n",
       "      <td>Claim_Accepted</td>\n",
       "    </tr>\n",
       "    <tr>\n",
       "      <th>3</th>\n",
       "      <td>e646f20fe849498</td>\n",
       "      <td>13331.07</td>\n",
       "      <td>mobile_app</td>\n",
       "      <td>c1b810</td>\n",
       "      <td>1.483381e+09</td>\n",
       "      <td>Claim_Accepted</td>\n",
       "    </tr>\n",
       "    <tr>\n",
       "      <th>4</th>\n",
       "      <td>6860630a3310419</td>\n",
       "      <td>14458.90</td>\n",
       "      <td>mobile_app</td>\n",
       "      <td>af1eee</td>\n",
       "      <td>1.483406e+09</td>\n",
       "      <td>Claim_Accepted</td>\n",
       "    </tr>\n",
       "  </tbody>\n",
       "</table>\n",
       "</div>"
      ],
      "text/plain": [
       "              case  paid_amount        platform customer_id     timeStamp  \\\n",
       "0  ea0f160a58c3496     19720.15      pc_browser      9bae09  1.483211e+09   \n",
       "1  3be3afe8a7b04c5     13928.65      pc_browser      3d476d  1.483228e+09   \n",
       "2  68ad8febf880477     15241.79  mobile_browser      dbbf0f  1.483304e+09   \n",
       "3  e646f20fe849498     13331.07      mobile_app      c1b810  1.483381e+09   \n",
       "4  6860630a3310419     14458.90      mobile_app      af1eee  1.483406e+09   \n",
       "\n",
       "              tag  \n",
       "0  Claim_Accepted  \n",
       "1  Claim_Accepted  \n",
       "2  Claim_Accepted  \n",
       "3  Claim_Accepted  \n",
       "4  Claim_Accepted  "
      ]
     },
     "execution_count": 70,
     "metadata": {},
     "output_type": "execute_result"
    }
   ],
   "source": [
    "claim_accepted = pd.read_csv(\"claim_accepted_basic.txt\",\n",
    "                             header = None,\n",
    "                             names = ['case', 'paid_amount' ,'platform', \n",
    "                                      'customer_id', 'timeStamp'])\n",
    "claim_accepted['tag'] = \"Claim_Accepted\"\n",
    "claim_accepted.head()"
   ]
  },
  {
   "cell_type": "code",
   "execution_count": 71,
   "metadata": {},
   "outputs": [],
   "source": [
    "# quote_completed[quote_completed.customer_id==\"a49ce0\"]"
   ]
  },
  {
   "cell_type": "code",
   "execution_count": 72,
   "metadata": {},
   "outputs": [],
   "source": [
    "# claim_accepted[claim_accepted.customer_id==\"a49ce0\"]"
   ]
  },
  {
   "cell_type": "code",
   "execution_count": 73,
   "metadata": {},
   "outputs": [
    {
     "data": {
      "text/plain": [
       "count    816301.000000\n",
       "mean       8710.884243\n",
       "std        2115.331869\n",
       "min        2642.610000\n",
       "25%        7327.870000\n",
       "50%        8626.900000\n",
       "75%        9955.940000\n",
       "max       27097.440000\n",
       "Name: paid_amount, dtype: float64"
      ]
     },
     "execution_count": 73,
     "metadata": {},
     "output_type": "execute_result"
    }
   ],
   "source": [
    "# len(claim_accepted.customer_id.unique().tolist())\n",
    "claim_accepted.paid_amount.describe()"
   ]
  },
  {
   "cell_type": "code",
   "execution_count": 74,
   "metadata": {},
   "outputs": [],
   "source": [
    "# claim_accepted.paid_amount.hist()\n",
    "# 8710.8842430-2*2115"
   ]
  },
  {
   "cell_type": "code",
   "execution_count": 75,
   "metadata": {
    "scrolled": true
   },
   "outputs": [
    {
     "data": {
      "text/html": [
       "<div>\n",
       "<style scoped>\n",
       "    .dataframe tbody tr th:only-of-type {\n",
       "        vertical-align: middle;\n",
       "    }\n",
       "\n",
       "    .dataframe tbody tr th {\n",
       "        vertical-align: top;\n",
       "    }\n",
       "\n",
       "    .dataframe thead th {\n",
       "        text-align: right;\n",
       "    }\n",
       "</style>\n",
       "<table border=\"1\" class=\"dataframe\">\n",
       "  <thead>\n",
       "    <tr style=\"text-align: right;\">\n",
       "      <th></th>\n",
       "      <th>case</th>\n",
       "      <th>payload</th>\n",
       "    </tr>\n",
       "  </thead>\n",
       "  <tbody>\n",
       "    <tr>\n",
       "      <th>0</th>\n",
       "      <td>1368d40a4f6e455</td>\n",
       "      <td>{\"name\": \"Nicole Berry\", \"email\": \"Nicole Berr...</td>\n",
       "    </tr>\n",
       "    <tr>\n",
       "      <th>1</th>\n",
       "      <td>6859e40fdc3f40d</td>\n",
       "      <td>{\"name\": \"Brandi Harris\", \"email\": \"Brandi Har...</td>\n",
       "    </tr>\n",
       "    <tr>\n",
       "      <th>2</th>\n",
       "      <td>be4398c940284fe</td>\n",
       "      <td>{\"name\": \"Christopher Moody\", \"email\": \"Christ...</td>\n",
       "    </tr>\n",
       "    <tr>\n",
       "      <th>3</th>\n",
       "      <td>0baaef67fe8a458</td>\n",
       "      <td>{\"name\": \"Loretta Steele\", \"email\": \"Loretta S...</td>\n",
       "    </tr>\n",
       "    <tr>\n",
       "      <th>4</th>\n",
       "      <td>8fd309fecc6d43a</td>\n",
       "      <td>{\"name\": \"Shawn Cruz\", \"email\": \"Shawn Cruz@hi...</td>\n",
       "    </tr>\n",
       "  </tbody>\n",
       "</table>\n",
       "</div>"
      ],
      "text/plain": [
       "              case                                            payload\n",
       "0  1368d40a4f6e455  {\"name\": \"Nicole Berry\", \"email\": \"Nicole Berr...\n",
       "1  6859e40fdc3f40d  {\"name\": \"Brandi Harris\", \"email\": \"Brandi Har...\n",
       "2  be4398c940284fe  {\"name\": \"Christopher Moody\", \"email\": \"Christ...\n",
       "3  0baaef67fe8a458  {\"name\": \"Loretta Steele\", \"email\": \"Loretta S...\n",
       "4  8fd309fecc6d43a  {\"name\": \"Shawn Cruz\", \"email\": \"Shawn Cruz@hi..."
      ]
     },
     "execution_count": 75,
     "metadata": {},
     "output_type": "execute_result"
    }
   ],
   "source": [
    "quote_completed = pd.read_csv('quote_completed_json.txt',\n",
    "                  sep = '~',\n",
    "                  header = None,\n",
    "                  names = ['case','payload'])\n",
    "quote_completed.head()"
   ]
  },
  {
   "cell_type": "code",
   "execution_count": 76,
   "metadata": {},
   "outputs": [],
   "source": [
    "quote_completed['name'] = quote_completed.payload.map(lambda x: json.loads(x)['name'])\n",
    "quote_completed['email'] = quote_completed.payload.map(lambda x: json.loads(x)['email'])\n",
    "quote_completed['gender'] = quote_completed.payload.map(lambda x: json.loads(x)['gender'])\n",
    "quote_completed['age'] = quote_completed.payload.map(lambda x: json.loads(x)['age'])\n",
    "quote_completed['home'] = quote_completed.payload.map(lambda x: json.loads(x)['home'])"
   ]
  },
  {
   "cell_type": "code",
   "execution_count": 77,
   "metadata": {},
   "outputs": [],
   "source": [
    "quote_completed['home_type'] = quote_completed.home.map(lambda x: x['type'])\n",
    "quote_completed['square_footage'] = quote_completed.home.map(lambda x: x['square_footage'])\n",
    "quote_completed['number_of_bedrooms'] = quote_completed.home.map(lambda x: x['number_of_bedrooms'])\n",
    "quote_completed['number_of_floors'] = quote_completed.home.map(lambda x: x['number_of_floors'])\n",
    "quote_completed['household'] = quote_completed.payload.map(lambda x: json.loads(x)['household'])\n",
    "del quote_completed['payload']\n",
    "del quote_completed['home']"
   ]
  },
  {
   "cell_type": "code",
   "execution_count": 78,
   "metadata": {},
   "outputs": [
    {
     "data": {
      "text/plain": [
       "(523322, 7)"
      ]
     },
     "execution_count": 78,
     "metadata": {},
     "output_type": "execute_result"
    }
   ],
   "source": [
    "# tmp is the \n",
    "quote_completed_basic = pd.read_csv('quote_completed_basic.txt',\n",
    "                  header = None,\n",
    "                  names = ['case','platform','customer_id','street','suburb','timeStamp'])\n",
    "quote_completed_basic['tag'] = \"Quote_Completed\"\n",
    "quote_completed_basic.street = quote_completed_basic.street.map(lambda x:x.strip()) \n",
    "quote_completed_basic.suburb = quote_completed_basic.suburb.map(lambda x:x.strip()) \n",
    "quote_completed_basic.shape"
   ]
  },
  {
   "cell_type": "code",
   "execution_count": 79,
   "metadata": {},
   "outputs": [
    {
     "data": {
      "text/plain": [
       "490"
      ]
     },
     "execution_count": 79,
     "metadata": {},
     "output_type": "execute_result"
    }
   ],
   "source": [
    "len(quote_completed_basic.suburb.unique().tolist())\n",
    "# there are only 490 unique suburbs in the data"
   ]
  },
  {
   "cell_type": "code",
   "execution_count": 80,
   "metadata": {},
   "outputs": [],
   "source": [
    "# combine the basic info and the json payload together \n",
    "quote_completed = pd.merge(quote_completed, quote_completed_basic, on='case')"
   ]
  },
  {
   "cell_type": "code",
   "execution_count": 81,
   "metadata": {},
   "outputs": [
    {
     "data": {
      "text/html": [
       "<div>\n",
       "<style scoped>\n",
       "    .dataframe tbody tr th:only-of-type {\n",
       "        vertical-align: middle;\n",
       "    }\n",
       "\n",
       "    .dataframe tbody tr th {\n",
       "        vertical-align: top;\n",
       "    }\n",
       "\n",
       "    .dataframe thead th {\n",
       "        text-align: right;\n",
       "    }\n",
       "</style>\n",
       "<table border=\"1\" class=\"dataframe\">\n",
       "  <thead>\n",
       "    <tr style=\"text-align: right;\">\n",
       "      <th></th>\n",
       "      <th>case</th>\n",
       "      <th>name</th>\n",
       "      <th>email</th>\n",
       "      <th>gender</th>\n",
       "      <th>age</th>\n",
       "      <th>home_type</th>\n",
       "      <th>square_footage</th>\n",
       "      <th>number_of_bedrooms</th>\n",
       "      <th>number_of_floors</th>\n",
       "      <th>household</th>\n",
       "      <th>platform</th>\n",
       "      <th>customer_id</th>\n",
       "      <th>street</th>\n",
       "      <th>suburb</th>\n",
       "      <th>timeStamp</th>\n",
       "      <th>tag</th>\n",
       "    </tr>\n",
       "  </thead>\n",
       "  <tbody>\n",
       "    <tr>\n",
       "      <th>0</th>\n",
       "      <td>1368d40a4f6e455</td>\n",
       "      <td>Nicole Berry</td>\n",
       "      <td>Nicole Berry@hotmail.com</td>\n",
       "      <td>male</td>\n",
       "      <td>29</td>\n",
       "      <td>1</td>\n",
       "      <td>311.803620</td>\n",
       "      <td>2</td>\n",
       "      <td>1</td>\n",
       "      <td>[{'name': 'Oscar Berry', 'age': 25, 'gender': ...</td>\n",
       "      <td>mobile_browser</td>\n",
       "      <td>99ccf1</td>\n",
       "      <td>66 Lake Jamieview</td>\n",
       "      <td>PSC</td>\n",
       "      <td>1.483194e+09</td>\n",
       "      <td>Quote_Completed</td>\n",
       "    </tr>\n",
       "    <tr>\n",
       "      <th>1</th>\n",
       "      <td>6859e40fdc3f40d</td>\n",
       "      <td>Brandi Harris</td>\n",
       "      <td>Brandi Harris@duncan.com</td>\n",
       "      <td>male</td>\n",
       "      <td>62</td>\n",
       "      <td>1</td>\n",
       "      <td>523.432957</td>\n",
       "      <td>2</td>\n",
       "      <td>1</td>\n",
       "      <td>[{'name': 'Michael Harris', 'age': 12, 'gender...</td>\n",
       "      <td>pc_browser</td>\n",
       "      <td>9bae09</td>\n",
       "      <td>60 West Lisaside</td>\n",
       "      <td>Jamie Port Suite</td>\n",
       "      <td>1.483197e+09</td>\n",
       "      <td>Quote_Completed</td>\n",
       "    </tr>\n",
       "    <tr>\n",
       "      <th>2</th>\n",
       "      <td>be4398c940284fe</td>\n",
       "      <td>Christopher Moody</td>\n",
       "      <td>Christopher Moody@green.info</td>\n",
       "      <td>male</td>\n",
       "      <td>40</td>\n",
       "      <td>1</td>\n",
       "      <td>221.633267</td>\n",
       "      <td>3</td>\n",
       "      <td>1</td>\n",
       "      <td>[]</td>\n",
       "      <td>pc_browser</td>\n",
       "      <td>b7aab4</td>\n",
       "      <td>120 Danielmouth</td>\n",
       "      <td>Unit  Box</td>\n",
       "      <td>1.483201e+09</td>\n",
       "      <td>Quote_Completed</td>\n",
       "    </tr>\n",
       "    <tr>\n",
       "      <th>3</th>\n",
       "      <td>0baaef67fe8a458</td>\n",
       "      <td>Loretta Steele</td>\n",
       "      <td>Loretta Steele@patton-smith.biz</td>\n",
       "      <td>female</td>\n",
       "      <td>48</td>\n",
       "      <td>1</td>\n",
       "      <td>301.854950</td>\n",
       "      <td>3</td>\n",
       "      <td>1</td>\n",
       "      <td>[{'name': 'Zachary Steele', 'age': 48, 'gender...</td>\n",
       "      <td>pc_browser</td>\n",
       "      <td>2bc68b</td>\n",
       "      <td>73 Edwardfurt</td>\n",
       "      <td>Michelle Crossing Suite</td>\n",
       "      <td>1.483205e+09</td>\n",
       "      <td>Quote_Completed</td>\n",
       "    </tr>\n",
       "    <tr>\n",
       "      <th>4</th>\n",
       "      <td>8fd309fecc6d43a</td>\n",
       "      <td>Shawn Cruz</td>\n",
       "      <td>Shawn Cruz@hines-hicks.com</td>\n",
       "      <td>female</td>\n",
       "      <td>33</td>\n",
       "      <td>0</td>\n",
       "      <td>265.802910</td>\n",
       "      <td>1</td>\n",
       "      <td>1</td>\n",
       "      <td>[{'name': 'Rebecca Cruz', 'age': 13, 'gender':...</td>\n",
       "      <td>phone_call</td>\n",
       "      <td>1c425a</td>\n",
       "      <td>3 Patriciastad</td>\n",
       "      <td>Nguyen Tunnel</td>\n",
       "      <td>1.483208e+09</td>\n",
       "      <td>Quote_Completed</td>\n",
       "    </tr>\n",
       "  </tbody>\n",
       "</table>\n",
       "</div>"
      ],
      "text/plain": [
       "              case               name                            email  \\\n",
       "0  1368d40a4f6e455       Nicole Berry         Nicole Berry@hotmail.com   \n",
       "1  6859e40fdc3f40d      Brandi Harris         Brandi Harris@duncan.com   \n",
       "2  be4398c940284fe  Christopher Moody     Christopher Moody@green.info   \n",
       "3  0baaef67fe8a458     Loretta Steele  Loretta Steele@patton-smith.biz   \n",
       "4  8fd309fecc6d43a         Shawn Cruz       Shawn Cruz@hines-hicks.com   \n",
       "\n",
       "   gender  age  home_type  square_footage  number_of_bedrooms  \\\n",
       "0    male   29          1      311.803620                   2   \n",
       "1    male   62          1      523.432957                   2   \n",
       "2    male   40          1      221.633267                   3   \n",
       "3  female   48          1      301.854950                   3   \n",
       "4  female   33          0      265.802910                   1   \n",
       "\n",
       "   number_of_floors                                          household  \\\n",
       "0                 1  [{'name': 'Oscar Berry', 'age': 25, 'gender': ...   \n",
       "1                 1  [{'name': 'Michael Harris', 'age': 12, 'gender...   \n",
       "2                 1                                                 []   \n",
       "3                 1  [{'name': 'Zachary Steele', 'age': 48, 'gender...   \n",
       "4                 1  [{'name': 'Rebecca Cruz', 'age': 13, 'gender':...   \n",
       "\n",
       "         platform customer_id             street                   suburb  \\\n",
       "0  mobile_browser      99ccf1  66 Lake Jamieview                      PSC   \n",
       "1      pc_browser      9bae09   60 West Lisaside         Jamie Port Suite   \n",
       "2      pc_browser      b7aab4    120 Danielmouth                Unit  Box   \n",
       "3      pc_browser      2bc68b      73 Edwardfurt  Michelle Crossing Suite   \n",
       "4      phone_call      1c425a     3 Patriciastad            Nguyen Tunnel   \n",
       "\n",
       "      timeStamp              tag  \n",
       "0  1.483194e+09  Quote_Completed  \n",
       "1  1.483197e+09  Quote_Completed  \n",
       "2  1.483201e+09  Quote_Completed  \n",
       "3  1.483205e+09  Quote_Completed  \n",
       "4  1.483208e+09  Quote_Completed  "
      ]
     },
     "execution_count": 81,
     "metadata": {},
     "output_type": "execute_result"
    }
   ],
   "source": [
    "quote_completed.head()"
   ]
  },
  {
   "cell_type": "code",
   "execution_count": 82,
   "metadata": {},
   "outputs": [
    {
     "name": "stdout",
     "output_type": "stream",
     "text": [
      "(523322, 16)\n"
     ]
    }
   ],
   "source": [
    "print(quote_completed.shape )\n",
    "# quote_completed.groupby('customer_id').count().sort_values(by = ['case'],ascending = False)"
   ]
  },
  {
   "cell_type": "code",
   "execution_count": 83,
   "metadata": {},
   "outputs": [
    {
     "data": {
      "text/plain": [
       "(826795, 5)"
      ]
     },
     "execution_count": 83,
     "metadata": {},
     "output_type": "execute_result"
    }
   ],
   "source": [
    "# Just take a look at the claim_started data set \n",
    "claim_started = pd.read_csv('claim_started_basic.txt',\n",
    "                  header = None,\n",
    "                  names = ['case','platform','customer_id','timeStamp'])\n",
    "claim_started['tag'] = \"Claim_Started\"\n",
    "claim_started.shape"
   ]
  },
  {
   "cell_type": "code",
   "execution_count": 84,
   "metadata": {},
   "outputs": [],
   "source": [
    "# quote_completed[ (quote_completed.timeStamp <t0) & (quote_completed.customer_id == c0)] \n",
    "# claim_accepted[ (claim_accepted.timeStamp <t0) & (claim_accepted.customer_id == c0)] \n",
    "# claim_denied[ (claim_denied.timeStamp <t0) & (claim_denied.customer_id == c0)] "
   ]
  },
  {
   "cell_type": "markdown",
   "metadata": {},
   "source": [
    "### this data shows how many times each customer started their claims "
   ]
  },
  {
   "cell_type": "markdown",
   "metadata": {},
   "source": [
    "### Let's take a look at how many times they get denied and accepted each. "
   ]
  },
  {
   "cell_type": "code",
   "execution_count": 85,
   "metadata": {},
   "outputs": [],
   "source": [
    "tmp = claim_started.groupby('customer_id').count().sort_values(by = ['case'],ascending = False)\n",
    "list_ = tmp.columns.tolist()\n",
    "tmp['Total'] = tmp.case\n",
    "for item in list_:\n",
    "    del tmp[item]"
   ]
  },
  {
   "cell_type": "code",
   "execution_count": 86,
   "metadata": {},
   "outputs": [],
   "source": [
    "# claim_denied dataframe has problem that the customer_id has white spaces \n",
    "tmp_denied = claim_denied.groupby('customer_id').count().sort_values(by = ['case'],ascending = False)\n",
    "list_ = tmp_denied.columns.tolist()\n",
    "tmp_denied['Denied'] = tmp_denied.case\n",
    "for item in list_:\n",
    "    del tmp_denied[item]"
   ]
  },
  {
   "cell_type": "code",
   "execution_count": 87,
   "metadata": {},
   "outputs": [],
   "source": [
    "tmp_accepted = claim_accepted.groupby('customer_id').count().sort_values(by = ['case'],ascending = False)\n",
    "list_ = tmp_accepted.columns.tolist()\n",
    "tmp_accepted['Accepted'] = tmp_accepted.case\n",
    "for item in list_:\n",
    "    del tmp_accepted[item]"
   ]
  },
  {
   "cell_type": "code",
   "execution_count": 88,
   "metadata": {},
   "outputs": [],
   "source": [
    "tmp.reset_index(level=0, inplace=True)\n",
    "tmp_denied.reset_index(level=0, inplace=True)\n",
    "tmp_accepted.reset_index(level=0, inplace=True)"
   ]
  },
  {
   "cell_type": "code",
   "execution_count": 89,
   "metadata": {},
   "outputs": [],
   "source": [
    "mg_df = pd.merge(tmp, tmp_accepted, how = 'left', on= 'customer_id')\n",
    "mg_df = pd.merge(mg_df, tmp_denied, how = 'left', on= 'customer_id')"
   ]
  },
  {
   "cell_type": "code",
   "execution_count": 90,
   "metadata": {},
   "outputs": [],
   "source": [
    "all_accepted = mg_df[(mg_df.Accepted == mg_df.Total)]\n",
    "all_denied = mg_df[(mg_df.Denied == mg_df.Total)]\n",
    "mixed = mg_df[(mg_df.Accepted >0) & (mg_df.Denied>0)]"
   ]
  },
  {
   "cell_type": "code",
   "execution_count": 91,
   "metadata": {},
   "outputs": [
    {
     "data": {
      "text/html": [
       "<div>\n",
       "<style scoped>\n",
       "    .dataframe tbody tr th:only-of-type {\n",
       "        vertical-align: middle;\n",
       "    }\n",
       "\n",
       "    .dataframe tbody tr th {\n",
       "        vertical-align: top;\n",
       "    }\n",
       "\n",
       "    .dataframe thead th {\n",
       "        text-align: right;\n",
       "    }\n",
       "</style>\n",
       "<table border=\"1\" class=\"dataframe\">\n",
       "  <thead>\n",
       "    <tr style=\"text-align: right;\">\n",
       "      <th></th>\n",
       "      <th>customer_id</th>\n",
       "      <th>Total</th>\n",
       "      <th>Accepted</th>\n",
       "      <th>Denied</th>\n",
       "    </tr>\n",
       "  </thead>\n",
       "  <tbody>\n",
       "    <tr>\n",
       "      <th>682</th>\n",
       "      <td>cac303</td>\n",
       "      <td>31</td>\n",
       "      <td>30.0</td>\n",
       "      <td>1.0</td>\n",
       "    </tr>\n",
       "    <tr>\n",
       "      <th>2334</th>\n",
       "      <td>8c8ab4</td>\n",
       "      <td>24</td>\n",
       "      <td>23.0</td>\n",
       "      <td>1.0</td>\n",
       "    </tr>\n",
       "    <tr>\n",
       "      <th>3333</th>\n",
       "      <td>aa159a</td>\n",
       "      <td>22</td>\n",
       "      <td>21.0</td>\n",
       "      <td>1.0</td>\n",
       "    </tr>\n",
       "    <tr>\n",
       "      <th>3751</th>\n",
       "      <td>46ff05</td>\n",
       "      <td>21</td>\n",
       "      <td>20.0</td>\n",
       "      <td>1.0</td>\n",
       "    </tr>\n",
       "    <tr>\n",
       "      <th>5797</th>\n",
       "      <td>85e5c6</td>\n",
       "      <td>18</td>\n",
       "      <td>17.0</td>\n",
       "      <td>1.0</td>\n",
       "    </tr>\n",
       "  </tbody>\n",
       "</table>\n",
       "</div>"
      ],
      "text/plain": [
       "     customer_id  Total  Accepted  Denied\n",
       "682       cac303     31      30.0     1.0\n",
       "2334      8c8ab4     24      23.0     1.0\n",
       "3333      aa159a     22      21.0     1.0\n",
       "3751      46ff05     21      20.0     1.0\n",
       "5797      85e5c6     18      17.0     1.0"
      ]
     },
     "execution_count": 91,
     "metadata": {},
     "output_type": "execute_result"
    }
   ],
   "source": [
    "# %matplotlib inline\n",
    "mixed.head()"
   ]
  },
  {
   "cell_type": "code",
   "execution_count": 92,
   "metadata": {},
   "outputs": [
    {
     "data": {
      "text/plain": [
       "0.00012215845523981156"
      ]
     },
     "execution_count": 92,
     "metadata": {},
     "output_type": "execute_result"
    }
   ],
   "source": [
    "101/claim_started.shape[0]\n",
    "# 以上奇怪的数据仅占总数的万分之一"
   ]
  },
  {
   "cell_type": "code",
   "execution_count": 93,
   "metadata": {},
   "outputs": [
    {
     "data": {
      "text/html": [
       "<div>\n",
       "<style scoped>\n",
       "    .dataframe tbody tr th:only-of-type {\n",
       "        vertical-align: middle;\n",
       "    }\n",
       "\n",
       "    .dataframe tbody tr th {\n",
       "        vertical-align: top;\n",
       "    }\n",
       "\n",
       "    .dataframe thead th {\n",
       "        text-align: right;\n",
       "    }\n",
       "</style>\n",
       "<table border=\"1\" class=\"dataframe\">\n",
       "  <thead>\n",
       "    <tr style=\"text-align: right;\">\n",
       "      <th></th>\n",
       "      <th>customer_id</th>\n",
       "      <th>Total</th>\n",
       "      <th>Denied</th>\n",
       "    </tr>\n",
       "  </thead>\n",
       "  <tbody>\n",
       "    <tr>\n",
       "      <th>81</th>\n",
       "      <td>46d885</td>\n",
       "      <td>2</td>\n",
       "      <td>2</td>\n",
       "    </tr>\n",
       "    <tr>\n",
       "      <th>93</th>\n",
       "      <td>f7dbe5</td>\n",
       "      <td>2</td>\n",
       "      <td>2</td>\n",
       "    </tr>\n",
       "    <tr>\n",
       "      <th>100</th>\n",
       "      <td>9b5212</td>\n",
       "      <td>2</td>\n",
       "      <td>2</td>\n",
       "    </tr>\n",
       "  </tbody>\n",
       "</table>\n",
       "</div>"
      ],
      "text/plain": [
       "    customer_id  Total  Denied\n",
       "81       46d885      2       2\n",
       "93       f7dbe5      2       2\n",
       "100      9b5212      2       2"
      ]
     },
     "execution_count": 93,
     "metadata": {},
     "output_type": "execute_result"
    }
   ],
   "source": [
    "denied_started = pd.merge(tmp, tmp_denied, on= 'customer_id')\n",
    "denied_started[denied_started.Denied > 1 ]"
   ]
  },
  {
   "cell_type": "code",
   "execution_count": 94,
   "metadata": {},
   "outputs": [],
   "source": [
    "count_payload = quote_completed.groupby('customer_id').count().sort_values(by = ['case'],ascending = False)\n",
    "list_ = count_payload.columns.tolist()\n",
    "count_payload['num_of_payload'] = count_payload.case\n",
    "for item in list_:\n",
    "    del count_payload[item]\n",
    "more_than_one_payload  = set(count_payload[count_payload.num_of_payload > 1].index.tolist())"
   ]
  },
  {
   "cell_type": "code",
   "execution_count": 95,
   "metadata": {},
   "outputs": [],
   "source": [
    "# mixed_payload  = set(mg_df.customer_id.tolist())\n",
    "# mixed_payload - more_than_one_payload"
   ]
  },
  {
   "cell_type": "code",
   "execution_count": 96,
   "metadata": {},
   "outputs": [
    {
     "data": {
      "text/html": [
       "<div>\n",
       "<style scoped>\n",
       "    .dataframe tbody tr th:only-of-type {\n",
       "        vertical-align: middle;\n",
       "    }\n",
       "\n",
       "    .dataframe tbody tr th {\n",
       "        vertical-align: top;\n",
       "    }\n",
       "\n",
       "    .dataframe thead th {\n",
       "        text-align: right;\n",
       "    }\n",
       "</style>\n",
       "<table border=\"1\" class=\"dataframe\">\n",
       "  <thead>\n",
       "    <tr style=\"text-align: right;\">\n",
       "      <th></th>\n",
       "      <th>case</th>\n",
       "      <th>platform</th>\n",
       "      <th>customer_id</th>\n",
       "      <th>timeStamp</th>\n",
       "      <th>tag</th>\n",
       "    </tr>\n",
       "  </thead>\n",
       "  <tbody>\n",
       "    <tr>\n",
       "      <th>0</th>\n",
       "      <td>90527688b31d445</td>\n",
       "      <td>mobile_browser</td>\n",
       "      <td>99ccf1</td>\n",
       "      <td>1.483194e+09</td>\n",
       "      <td>Claim_Started</td>\n",
       "    </tr>\n",
       "    <tr>\n",
       "      <th>1</th>\n",
       "      <td>4c9ab2942b484f2</td>\n",
       "      <td>pc_browser</td>\n",
       "      <td>9bae09</td>\n",
       "      <td>1.483197e+09</td>\n",
       "      <td>Claim_Started</td>\n",
       "    </tr>\n",
       "    <tr>\n",
       "      <th>2</th>\n",
       "      <td>cf1d5d9af6d54ef</td>\n",
       "      <td>pc_browser</td>\n",
       "      <td>b7aab4</td>\n",
       "      <td>1.483201e+09</td>\n",
       "      <td>Claim_Started</td>\n",
       "    </tr>\n",
       "    <tr>\n",
       "      <th>3</th>\n",
       "      <td>84618ef8bc28479</td>\n",
       "      <td>mobile_browser</td>\n",
       "      <td>983092</td>\n",
       "      <td>1.483204e+09</td>\n",
       "      <td>Claim_Started</td>\n",
       "    </tr>\n",
       "    <tr>\n",
       "      <th>4</th>\n",
       "      <td>ae3f3d4c667a455</td>\n",
       "      <td>pc_browser</td>\n",
       "      <td>2bc68b</td>\n",
       "      <td>1.483205e+09</td>\n",
       "      <td>Claim_Started</td>\n",
       "    </tr>\n",
       "  </tbody>\n",
       "</table>\n",
       "</div>"
      ],
      "text/plain": [
       "              case        platform customer_id     timeStamp            tag\n",
       "0  90527688b31d445  mobile_browser      99ccf1  1.483194e+09  Claim_Started\n",
       "1  4c9ab2942b484f2      pc_browser      9bae09  1.483197e+09  Claim_Started\n",
       "2  cf1d5d9af6d54ef      pc_browser      b7aab4  1.483201e+09  Claim_Started\n",
       "3  84618ef8bc28479  mobile_browser      983092  1.483204e+09  Claim_Started\n",
       "4  ae3f3d4c667a455      pc_browser      2bc68b  1.483205e+09  Claim_Started"
      ]
     },
     "execution_count": 96,
     "metadata": {},
     "output_type": "execute_result"
    }
   ],
   "source": [
    "claim_started.head()"
   ]
  },
  {
   "cell_type": "code",
   "execution_count": 97,
   "metadata": {},
   "outputs": [
    {
     "data": {
      "text/html": [
       "<div>\n",
       "<style scoped>\n",
       "    .dataframe tbody tr th:only-of-type {\n",
       "        vertical-align: middle;\n",
       "    }\n",
       "\n",
       "    .dataframe tbody tr th {\n",
       "        vertical-align: top;\n",
       "    }\n",
       "\n",
       "    .dataframe thead th {\n",
       "        text-align: right;\n",
       "    }\n",
       "</style>\n",
       "<table border=\"1\" class=\"dataframe\">\n",
       "  <thead>\n",
       "    <tr style=\"text-align: right;\">\n",
       "      <th></th>\n",
       "      <th>case</th>\n",
       "      <th>platform</th>\n",
       "      <th>customer_id</th>\n",
       "      <th>timeStamp</th>\n",
       "      <th>matched_payment_complete</th>\n",
       "      <th>label</th>\n",
       "    </tr>\n",
       "  </thead>\n",
       "  <tbody>\n",
       "    <tr>\n",
       "      <th>0</th>\n",
       "      <td>90527688b31d445</td>\n",
       "      <td>mobile_browser</td>\n",
       "      <td>99ccf1</td>\n",
       "      <td>1.483194e+09</td>\n",
       "      <td>1</td>\n",
       "      <td>1</td>\n",
       "    </tr>\n",
       "    <tr>\n",
       "      <th>1</th>\n",
       "      <td>4c9ab2942b484f2</td>\n",
       "      <td>pc_browser</td>\n",
       "      <td>9bae09</td>\n",
       "      <td>1.483197e+09</td>\n",
       "      <td>1</td>\n",
       "      <td>-1</td>\n",
       "    </tr>\n",
       "    <tr>\n",
       "      <th>2</th>\n",
       "      <td>cf1d5d9af6d54ef</td>\n",
       "      <td>pc_browser</td>\n",
       "      <td>b7aab4</td>\n",
       "      <td>1.483201e+09</td>\n",
       "      <td>1</td>\n",
       "      <td>1</td>\n",
       "    </tr>\n",
       "    <tr>\n",
       "      <th>3</th>\n",
       "      <td>84618ef8bc28479</td>\n",
       "      <td>mobile_browser</td>\n",
       "      <td>983092</td>\n",
       "      <td>1.483204e+09</td>\n",
       "      <td>0</td>\n",
       "      <td>-1</td>\n",
       "    </tr>\n",
       "    <tr>\n",
       "      <th>4</th>\n",
       "      <td>ae3f3d4c667a455</td>\n",
       "      <td>pc_browser</td>\n",
       "      <td>2bc68b</td>\n",
       "      <td>1.483205e+09</td>\n",
       "      <td>1</td>\n",
       "      <td>1</td>\n",
       "    </tr>\n",
       "  </tbody>\n",
       "</table>\n",
       "</div>"
      ],
      "text/plain": [
       "              case        platform customer_id     timeStamp  \\\n",
       "0  90527688b31d445  mobile_browser      99ccf1  1.483194e+09   \n",
       "1  4c9ab2942b484f2      pc_browser      9bae09  1.483197e+09   \n",
       "2  cf1d5d9af6d54ef      pc_browser      b7aab4  1.483201e+09   \n",
       "3  84618ef8bc28479  mobile_browser      983092  1.483204e+09   \n",
       "4  ae3f3d4c667a455      pc_browser      2bc68b  1.483205e+09   \n",
       "\n",
       "   matched_payment_complete  label  \n",
       "0                         1      1  \n",
       "1                         1     -1  \n",
       "2                         1      1  \n",
       "3                         0     -1  \n",
       "4                         1      1  "
      ]
     },
     "execution_count": 97,
     "metadata": {},
     "output_type": "execute_result"
    }
   ],
   "source": [
    "incoming_case = pd.merge(claim_started,payment_completed, how = \"left\", on  = ['timeStamp','customer_id'])\n",
    "incoming_case.case_y = incoming_case.case_y.notnull().astype('int')\n",
    "del incoming_case['platform_y']\n",
    "del incoming_case['tag_y']\n",
    "del incoming_case['tag_x']\n",
    "# matched_payment_compelte indicate whether the claim_started is matched with a payment completed case\n",
    "incoming_case.columns = ['case','platform','customer_id','timeStamp','matched_payment_complete']\n",
    "\n",
    "incoming_case = pd.merge(incoming_case , all_accepted, how = 'left', on =['customer_id'])\n",
    "incoming_case.Total = incoming_case.Total.notnull().astype('int')\n",
    "incoming_case.rename(columns={'Total':'all_accepted'}, inplace=True)\n",
    "del incoming_case['Accepted']\n",
    "del incoming_case['Denied']\n",
    "incoming_case.all_accepted = incoming_case.all_accepted.map({1:-1,0:0})\n",
    "\n",
    "incoming_case = pd.merge(incoming_case , all_denied, how = 'left', on =['customer_id'])\n",
    "incoming_case.Total = incoming_case.Total.notnull().astype('int')\n",
    "incoming_case.rename(columns={'Total':'all_denied'}, inplace=True)\n",
    "del incoming_case['Accepted']\n",
    "del incoming_case['Denied']\n",
    "# incoming_case.all_denied = incoming_case.all_denied.map({1:-1,0:0})\n",
    "\n",
    "incoming_case['label'] = incoming_case.all_accepted + incoming_case.all_denied\n",
    "del incoming_case['all_denied']\n",
    "del incoming_case['all_accepted']\n",
    "incoming_case.head()"
   ]
  },
  {
   "cell_type": "code",
   "execution_count": 98,
   "metadata": {},
   "outputs": [],
   "source": [
    "# the label of 1 indicate fraud, -1 indicate not fraud, 0 indicate no entry for now \n",
    "# mixed[mixed.Denied ==  1].shape # there are all denied once "
   ]
  },
  {
   "cell_type": "code",
   "execution_count": 99,
   "metadata": {},
   "outputs": [
    {
     "data": {
      "text/html": [
       "<div>\n",
       "<style scoped>\n",
       "    .dataframe tbody tr th:only-of-type {\n",
       "        vertical-align: middle;\n",
       "    }\n",
       "\n",
       "    .dataframe tbody tr th {\n",
       "        vertical-align: top;\n",
       "    }\n",
       "\n",
       "    .dataframe thead th {\n",
       "        text-align: right;\n",
       "    }\n",
       "</style>\n",
       "<table border=\"1\" class=\"dataframe\">\n",
       "  <thead>\n",
       "    <tr style=\"text-align: right;\">\n",
       "      <th></th>\n",
       "      <th>case</th>\n",
       "      <th>platform</th>\n",
       "      <th>customer_id</th>\n",
       "      <th>timeStamp</th>\n",
       "      <th>tag</th>\n",
       "    </tr>\n",
       "  </thead>\n",
       "  <tbody>\n",
       "    <tr>\n",
       "      <th>0</th>\n",
       "      <td>90527688b31d445</td>\n",
       "      <td>mobile_browser</td>\n",
       "      <td>99ccf1</td>\n",
       "      <td>1.483194e+09</td>\n",
       "      <td>Claim_Started</td>\n",
       "    </tr>\n",
       "    <tr>\n",
       "      <th>1</th>\n",
       "      <td>4c9ab2942b484f2</td>\n",
       "      <td>pc_browser</td>\n",
       "      <td>9bae09</td>\n",
       "      <td>1.483197e+09</td>\n",
       "      <td>Claim_Started</td>\n",
       "    </tr>\n",
       "    <tr>\n",
       "      <th>2</th>\n",
       "      <td>cf1d5d9af6d54ef</td>\n",
       "      <td>pc_browser</td>\n",
       "      <td>b7aab4</td>\n",
       "      <td>1.483201e+09</td>\n",
       "      <td>Claim_Started</td>\n",
       "    </tr>\n",
       "  </tbody>\n",
       "</table>\n",
       "</div>"
      ],
      "text/plain": [
       "              case        platform customer_id     timeStamp            tag\n",
       "0  90527688b31d445  mobile_browser      99ccf1  1.483194e+09  Claim_Started\n",
       "1  4c9ab2942b484f2      pc_browser      9bae09  1.483197e+09  Claim_Started\n",
       "2  cf1d5d9af6d54ef      pc_browser      b7aab4  1.483201e+09  Claim_Started"
      ]
     },
     "execution_count": 99,
     "metadata": {},
     "output_type": "execute_result"
    }
   ],
   "source": [
    "claim_started.head(3)"
   ]
  },
  {
   "cell_type": "code",
   "execution_count": 100,
   "metadata": {},
   "outputs": [],
   "source": [
    "# for the mixed customers, we find out which cases are denied, find the case_id \n",
    "# label all these positives, then label all 0 to be negatives \n",
    "mixed_claims = pd.merge(claim_denied , mixed , on = ['customer_id'])\n",
    "test = pd.merge(mixed_claims, claim_started, how = \"outer\", on = ['customer_id'])\n",
    "denied_started_joined = test[test.timeStamp_x > test.timeStamp_y]"
   ]
  },
  {
   "cell_type": "code",
   "execution_count": 101,
   "metadata": {},
   "outputs": [],
   "source": [
    "# denied_started_joined[denied_started_joined.customer_id==\"297b2c\"]"
   ]
  },
  {
   "cell_type": "code",
   "execution_count": 102,
   "metadata": {},
   "outputs": [],
   "source": [
    "denied_case_started_time = denied_started_joined.groupby(\"case_x\").max()[[\"timeStamp_y\"]]"
   ]
  },
  {
   "cell_type": "code",
   "execution_count": 103,
   "metadata": {},
   "outputs": [],
   "source": [
    "mixed_denied = pd.merge(denied_started_joined, denied_case_started_time, on=[\"case_x\",\"timeStamp_y\"])\n",
    "mixed_denied[\"case\"] = mixed_denied[\"case_y\"]\n",
    "del mixed_denied[\"case_y\"]"
   ]
  },
  {
   "cell_type": "code",
   "execution_count": 104,
   "metadata": {},
   "outputs": [],
   "source": [
    "# mixed_denied[[\"case\",\"tag_y\"]]"
   ]
  },
  {
   "cell_type": "code",
   "execution_count": 105,
   "metadata": {},
   "outputs": [],
   "source": [
    "incoming_case_ = pd.merge(incoming_case,mixed_denied[[\"case\",\"tag_y\"]],how=\"left\",on=\"case\")\n",
    "incoming_case_['tag_y'] = incoming_case_.tag_y.notnull().astype('int')\n",
    "incoming_case_.label = incoming_case_.label + incoming_case_.tag_y"
   ]
  },
  {
   "cell_type": "code",
   "execution_count": 106,
   "metadata": {},
   "outputs": [],
   "source": [
    "# label all the not labelled cases normal \n",
    "incoming_case_.label = incoming_case_.label.map({1:1,-1:-1,0:-1})\n",
    "del incoming_case_[\"tag_y\"]"
   ]
  },
  {
   "cell_type": "code",
   "execution_count": 107,
   "metadata": {},
   "outputs": [
    {
     "data": {
      "text/html": [
       "<div>\n",
       "<style scoped>\n",
       "    .dataframe tbody tr th:only-of-type {\n",
       "        vertical-align: middle;\n",
       "    }\n",
       "\n",
       "    .dataframe tbody tr th {\n",
       "        vertical-align: top;\n",
       "    }\n",
       "\n",
       "    .dataframe thead th {\n",
       "        text-align: right;\n",
       "    }\n",
       "</style>\n",
       "<table border=\"1\" class=\"dataframe\">\n",
       "  <thead>\n",
       "    <tr style=\"text-align: right;\">\n",
       "      <th></th>\n",
       "      <th>case</th>\n",
       "      <th>platform</th>\n",
       "      <th>customer_id</th>\n",
       "      <th>timeStamp</th>\n",
       "      <th>matched_payment_complete</th>\n",
       "      <th>label</th>\n",
       "    </tr>\n",
       "  </thead>\n",
       "  <tbody>\n",
       "    <tr>\n",
       "      <th>0</th>\n",
       "      <td>90527688b31d445</td>\n",
       "      <td>mobile_browser</td>\n",
       "      <td>99ccf1</td>\n",
       "      <td>1.483194e+09</td>\n",
       "      <td>1</td>\n",
       "      <td>1</td>\n",
       "    </tr>\n",
       "    <tr>\n",
       "      <th>1</th>\n",
       "      <td>4c9ab2942b484f2</td>\n",
       "      <td>pc_browser</td>\n",
       "      <td>9bae09</td>\n",
       "      <td>1.483197e+09</td>\n",
       "      <td>1</td>\n",
       "      <td>-1</td>\n",
       "    </tr>\n",
       "    <tr>\n",
       "      <th>2</th>\n",
       "      <td>cf1d5d9af6d54ef</td>\n",
       "      <td>pc_browser</td>\n",
       "      <td>b7aab4</td>\n",
       "      <td>1.483201e+09</td>\n",
       "      <td>1</td>\n",
       "      <td>1</td>\n",
       "    </tr>\n",
       "    <tr>\n",
       "      <th>3</th>\n",
       "      <td>84618ef8bc28479</td>\n",
       "      <td>mobile_browser</td>\n",
       "      <td>983092</td>\n",
       "      <td>1.483204e+09</td>\n",
       "      <td>0</td>\n",
       "      <td>-1</td>\n",
       "    </tr>\n",
       "    <tr>\n",
       "      <th>4</th>\n",
       "      <td>ae3f3d4c667a455</td>\n",
       "      <td>pc_browser</td>\n",
       "      <td>2bc68b</td>\n",
       "      <td>1.483205e+09</td>\n",
       "      <td>1</td>\n",
       "      <td>1</td>\n",
       "    </tr>\n",
       "  </tbody>\n",
       "</table>\n",
       "</div>"
      ],
      "text/plain": [
       "              case        platform customer_id     timeStamp  \\\n",
       "0  90527688b31d445  mobile_browser      99ccf1  1.483194e+09   \n",
       "1  4c9ab2942b484f2      pc_browser      9bae09  1.483197e+09   \n",
       "2  cf1d5d9af6d54ef      pc_browser      b7aab4  1.483201e+09   \n",
       "3  84618ef8bc28479  mobile_browser      983092  1.483204e+09   \n",
       "4  ae3f3d4c667a455      pc_browser      2bc68b  1.483205e+09   \n",
       "\n",
       "   matched_payment_complete  label  \n",
       "0                         1      1  \n",
       "1                         1     -1  \n",
       "2                         1      1  \n",
       "3                         0     -1  \n",
       "4                         1      1  "
      ]
     },
     "execution_count": 107,
     "metadata": {},
     "output_type": "execute_result"
    }
   ],
   "source": [
    "incoming_case_.head()\n",
    "# all the incoming cases are labelled correctly"
   ]
  },
  {
   "cell_type": "code",
   "execution_count": 108,
   "metadata": {},
   "outputs": [],
   "source": [
    "# set(quote_completed.customer_id.unique()) - set(claim_started.customer_id.unique())\n",
    "# many customers just make quotes and don't even start claim. "
   ]
  },
  {
   "cell_type": "code",
   "execution_count": 109,
   "metadata": {},
   "outputs": [],
   "source": [
    "# len(set(incoming_case_.customer_id.unique())-set(merge_df.customer_id.unique()))\n",
    "# some times a customer makes claims right away. This is another kind of data anomaly"
   ]
  },
  {
   "cell_type": "code",
   "execution_count": 110,
   "metadata": {},
   "outputs": [],
   "source": [
    "# now join the labelled data with the Json payload \n",
    "merge_df = pd.merge(incoming_case_, quote_completed, how = \"left\", on = ['customer_id',\"platform\"])\n",
    "merge_df = merge_df[merge_df.timeStamp_x > merge_df.timeStamp_y]\n",
    "idx = merge_df.groupby(['case_x'])['timeStamp_y'].transform(max) == merge_df['timeStamp_y']\n",
    "merge_df = merge_df[idx]"
   ]
  },
  {
   "cell_type": "code",
   "execution_count": 111,
   "metadata": {},
   "outputs": [],
   "source": [
    "t = claim_started[['customer_id','platform']].drop_duplicates().groupby(\"customer_id\").count()\n",
    "t= pd.merge(t,mixed,'inner',on='customer_id').sort_values('platform')\n",
    "t = t[t.platform == 1 ]\n",
    "# with these customers, it is impossible to link claim_started with corresponding quote_completed. \n",
    "# 35 of them, we can remove them "
   ]
  },
  {
   "cell_type": "code",
   "execution_count": 112,
   "metadata": {},
   "outputs": [],
   "source": [
    "final_ = pd.merge(merge_df,t[[\"customer_id\",\"Denied\"]],how = \"left\", on = \"customer_id\" )"
   ]
  },
  {
   "cell_type": "code",
   "execution_count": 113,
   "metadata": {},
   "outputs": [],
   "source": [
    "final = final_[final_.Denied.isnull()]"
   ]
  },
  {
   "cell_type": "code",
   "execution_count": 114,
   "metadata": {},
   "outputs": [
    {
     "data": {
      "text/plain": [
       "0"
      ]
     },
     "execution_count": 114,
     "metadata": {},
     "output_type": "execute_result"
    }
   ],
   "source": [
    "final.label.isnull().sum()"
   ]
  },
  {
   "cell_type": "code",
   "execution_count": 115,
   "metadata": {},
   "outputs": [],
   "source": [
    "# merge_df[merge_df.customer_id==\"ca3f6c\"]"
   ]
  },
  {
   "cell_type": "code",
   "execution_count": 116,
   "metadata": {},
   "outputs": [],
   "source": [
    "# joined = merge_df[merge_df.timeStamp_x > merge_df.timeStamp_y]\n",
    "# tmp = merge_df[merge_df.timeStamp_x < merge_df.timeStamp_y]"
   ]
  },
  {
   "cell_type": "code",
   "execution_count": 117,
   "metadata": {},
   "outputs": [],
   "source": [
    "# merge_set = set(merge_df.case_x.unique().tolist())\n",
    "# income_set = set(incoming_case.case.unique().tolist())\n",
    "# joined_set = set(joined.case_x.unique().tolist())\n",
    "# tmp_set =  set(tmp.case_x.unique().tolist())"
   ]
  },
  {
   "cell_type": "code",
   "execution_count": 118,
   "metadata": {},
   "outputs": [],
   "source": [
    "# len(tmp_set-joined_set)\n",
    "# when a customer is able to make a claim before the quote is completed"
   ]
  },
  {
   "cell_type": "code",
   "execution_count": 119,
   "metadata": {},
   "outputs": [],
   "source": [
    "# len(tmp_set & joined_set)"
   ]
  },
  {
   "cell_type": "code",
   "execution_count": 120,
   "metadata": {},
   "outputs": [],
   "source": [
    "# merge_df.groupby(\"case_x\").max()[[\"timeStamp_y\"]]"
   ]
  },
  {
   "cell_type": "code",
   "execution_count": 121,
   "metadata": {},
   "outputs": [],
   "source": [
    "# max_time_y.loc[\"f7dbe5\",]\n",
    "# max_time_y.head()"
   ]
  },
  {
   "cell_type": "code",
   "execution_count": 122,
   "metadata": {},
   "outputs": [],
   "source": [
    "del final['timeStamp_y']\n",
    "del final['case_y']\n",
    "del final['tag']"
   ]
  },
  {
   "cell_type": "code",
   "execution_count": 123,
   "metadata": {},
   "outputs": [],
   "source": [
    "final = final.sort_values(by ='timeStamp_x' )\n",
    "final.label = final.label.map({1:1,-1:0})\n",
    "del final['Denied']"
   ]
  },
  {
   "cell_type": "code",
   "execution_count": 124,
   "metadata": {},
   "outputs": [],
   "source": [
    "final.to_csv(\"final.csv\",index= False,header=None)\n",
    "# final.head()"
   ]
  },
  {
   "cell_type": "code",
   "execution_count": 125,
   "metadata": {},
   "outputs": [
    {
     "data": {
      "text/plain": [
       "0"
      ]
     },
     "execution_count": 125,
     "metadata": {},
     "output_type": "execute_result"
    }
   ],
   "source": [
    "final.label.isnull().sum()"
   ]
  },
  {
   "cell_type": "code",
   "execution_count": 126,
   "metadata": {},
   "outputs": [],
   "source": [
    "# run a rough regression model"
   ]
  },
  {
   "cell_type": "code",
   "execution_count": 127,
   "metadata": {},
   "outputs": [],
   "source": [
    "tmp = quote_completed.groupby(\"customer_id\")[[\"case\"]].count()\n",
    "# the majority of the cases only have one payload \n",
    "# for the customers with more than one payload, don't conider them. They only constitute less than 2%. "
   ]
  },
  {
   "cell_type": "code",
   "execution_count": 128,
   "metadata": {},
   "outputs": [],
   "source": [
    "quote_completed_cleaned = pd.merge(quote_completed,tmp[tmp.case==1], how=\"inner\",on=\"customer_id\")"
   ]
  },
  {
   "cell_type": "code",
   "execution_count": 129,
   "metadata": {},
   "outputs": [
    {
     "data": {
      "text/html": [
       "<div>\n",
       "<style scoped>\n",
       "    .dataframe tbody tr th:only-of-type {\n",
       "        vertical-align: middle;\n",
       "    }\n",
       "\n",
       "    .dataframe tbody tr th {\n",
       "        vertical-align: top;\n",
       "    }\n",
       "\n",
       "    .dataframe thead th {\n",
       "        text-align: right;\n",
       "    }\n",
       "</style>\n",
       "<table border=\"1\" class=\"dataframe\">\n",
       "  <thead>\n",
       "    <tr style=\"text-align: right;\">\n",
       "      <th></th>\n",
       "      <th>home_type</th>\n",
       "      <th>square_footage</th>\n",
       "      <th>number_of_bedrooms</th>\n",
       "      <th>number_of_floors</th>\n",
       "      <th>suburb</th>\n",
       "      <th>paid_amount</th>\n",
       "    </tr>\n",
       "  </thead>\n",
       "  <tbody>\n",
       "    <tr>\n",
       "      <th>0</th>\n",
       "      <td>1</td>\n",
       "      <td>523.432957</td>\n",
       "      <td>2</td>\n",
       "      <td>1</td>\n",
       "      <td>Jamie Port Suite</td>\n",
       "      <td>19720.15</td>\n",
       "    </tr>\n",
       "    <tr>\n",
       "      <th>1</th>\n",
       "      <td>1</td>\n",
       "      <td>422.512583</td>\n",
       "      <td>2</td>\n",
       "      <td>1</td>\n",
       "      <td>Richardson Inlet Suite</td>\n",
       "      <td>12562.81</td>\n",
       "    </tr>\n",
       "    <tr>\n",
       "      <th>2</th>\n",
       "      <td>1</td>\n",
       "      <td>337.961510</td>\n",
       "      <td>2</td>\n",
       "      <td>1</td>\n",
       "      <td>Brittany Points</td>\n",
       "      <td>13928.65</td>\n",
       "    </tr>\n",
       "    <tr>\n",
       "      <th>3</th>\n",
       "      <td>1</td>\n",
       "      <td>308.806920</td>\n",
       "      <td>3</td>\n",
       "      <td>1</td>\n",
       "      <td>Laura Junctions Suite</td>\n",
       "      <td>8720.17</td>\n",
       "    </tr>\n",
       "    <tr>\n",
       "      <th>4</th>\n",
       "      <td>1</td>\n",
       "      <td>275.414135</td>\n",
       "      <td>3</td>\n",
       "      <td>1</td>\n",
       "      <td>Lori Stream</td>\n",
       "      <td>8385.35</td>\n",
       "    </tr>\n",
       "  </tbody>\n",
       "</table>\n",
       "</div>"
      ],
      "text/plain": [
       "   home_type  square_footage  number_of_bedrooms  number_of_floors  \\\n",
       "0          1      523.432957                   2                 1   \n",
       "1          1      422.512583                   2                 1   \n",
       "2          1      337.961510                   2                 1   \n",
       "3          1      308.806920                   3                 1   \n",
       "4          1      275.414135                   3                 1   \n",
       "\n",
       "                   suburb  paid_amount  \n",
       "0        Jamie Port Suite     19720.15  \n",
       "1  Richardson Inlet Suite     12562.81  \n",
       "2         Brittany Points     13928.65  \n",
       "3   Laura Junctions Suite      8720.17  \n",
       "4             Lori Stream      8385.35  "
      ]
     },
     "execution_count": 129,
     "metadata": {},
     "output_type": "execute_result"
    }
   ],
   "source": [
    "tmp = claim_accepted[['customer_id',\"paid_amount\"]].drop_duplicates()\n",
    "money_vs_payload = pd.merge(quote_completed_cleaned,tmp,how=\"inner\",on=\"customer_id\")\n",
    "money_vs_payload = money_vs_payload[['home_type',\"square_footage\",\n",
    "                                     \"number_of_bedrooms\",\"number_of_floors\",\"household\",\n",
    "                                     \"suburb\",\"paid_amount\"]]\n",
    "del money_vs_payload['household']\n",
    "money_vs_payload.head()"
   ]
  },
  {
   "cell_type": "code",
   "execution_count": 130,
   "metadata": {},
   "outputs": [
    {
     "data": {
      "text/plain": [
       "<matplotlib.axes._subplots.AxesSubplot at 0x13fe24c18>"
      ]
     },
     "execution_count": 130,
     "metadata": {},
     "output_type": "execute_result"
    },
    {
     "data": {
      "image/png": "[encoded data removed]",
      "text/plain": [
       "<Figure size 432x288 with 1 Axes>"
      ]
     },
     "metadata": {},
     "output_type": "display_data"
    }
   ],
   "source": [
    "df = money_vs_payload \n",
    "# use the function regplot to make a scatterplot\n",
    "sns.regplot(x=df[\"square_footage\"], y=df[\"paid_amount\"])"
   ]
  },
  {
   "cell_type": "markdown",
   "metadata": {},
   "source": [
    "the following is the output from R\n",
    "Call:\n",
    "lm(formula = paid_amount ~ square_footage, data = money_vs_payload)\n",
    "\n",
    "Coefficients:\n",
    "   (Intercept)  square_footage  \n",
    "       1262.36           25.04 \n",
    "       \n",
    "We can use this equation to calculate the estimated "
   ]
  },
  {
   "cell_type": "code",
   "execution_count": 131,
   "metadata": {},
   "outputs": [
    {
     "data": {
      "text/plain": [
       "90092789.63701384"
      ]
     },
     "execution_count": 131,
     "metadata": {},
     "output_type": "execute_result"
    }
   ],
   "source": [
    "final[\"predicted_claim_money\"] = 1262.36 +25.04*final[\"square_footage\"]\n",
    "final[final.label ==1].predicted_claim_money.sum()"
   ]
  },
  {
   "cell_type": "code",
   "execution_count": 132,
   "metadata": {},
   "outputs": [
    {
     "data": {
      "text/plain": [
       "91107138.29375029"
      ]
     },
     "execution_count": 132,
     "metadata": {},
     "output_type": "execute_result"
    }
   ],
   "source": [
    "final.label.sum()*claim_accepted.paid_amount.mean()"
   ]
  },
  {
   "cell_type": "code",
   "execution_count": 133,
   "metadata": {},
   "outputs": [
    {
     "ename": "SyntaxError",
     "evalue": "invalid syntax (<ipython-input-133-57f06af7573c>, line 1)",
     "output_type": "error",
     "traceback": [
      "\u001b[0;36m  File \u001b[0;32m\"<ipython-input-133-57f06af7573c>\"\u001b[0;36m, line \u001b[0;32m1\u001b[0m\n\u001b[0;31m    1341.89 is the width of prediction intervals\u001b[0m\n\u001b[0m                       ^\u001b[0m\n\u001b[0;31mSyntaxError\u001b[0m\u001b[0;31m:\u001b[0m invalid syntax\n"
     ]
    }
   ],
   "source": [
    "1341.89 is the width of prediction intervals"
   ]
  }
 ],
 "metadata": {
  "kernelspec": {
   "display_name": "Python 3",
   "language": "python",
   "name": "python3"
  },
  "language_info": {
   "codemirror_mode": {
    "name": "ipython",
    "version": 3
   },
   "file_extension": ".py",
   "mimetype": "text/x-python",
   "name": "python",
   "nbconvert_exporter": "python",
   "pygments_lexer": "ipython3",
   "version": "3.6.8"
  }
 },
 "nbformat": 4,
 "nbformat_minor": 2
}
