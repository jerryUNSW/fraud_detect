{
 "cells": [
  {
   "cell_type": "code",
   "execution_count": 1,
   "metadata": {},
   "outputs": [],
   "source": [
    "import numpy as np\n",
    "import pandas as pd\n",
    "import matplotlib.pyplot as plt\n",
    "import json\n",
    "import re\n",
    "from sklearn import preprocessing\n",
    "from sklearn.tree import DecisionTreeClassifier\n",
    "\n",
    "import seaborn as sns\n",
    "%matplotlib inline"
   ]
  },
  {
   "cell_type": "code",
   "execution_count": 2,
   "metadata": {},
   "outputs": [
    {
     "data": {
      "text/plain": [
       "Index(['case', 'platform', 'customer_id', 'timeStamp',\n",
       "       'matched_payment_complete', 'label', 'name', 'email', 'gender', 'age',\n",
       "       'home_type', 'square_footage', 'number_of_bedrooms', 'number_of_floors',\n",
       "       'household', 'platform_y', 'street', 'suburb', 'times_denid'],\n",
       "      dtype='object')"
      ]
     },
     "execution_count": 2,
     "metadata": {},
     "output_type": "execute_result"
    }
   ],
   "source": [
    "final = pd.read_csv(\"final.csv\", \n",
    "                             names = ['case' ,'platform', 'customer_id', 'timeStamp',\n",
    "                                      'matched_payment_complete', 'label', 'name', 'email', 'gender', 'age',\n",
    "                                      'home_type', 'square_footage', 'number_of_bedrooms', 'number_of_floors',\n",
    "                                      'household', 'platform_y', 'street', 'suburb'])\n",
    "\n",
    "final['times_denid']=final.groupby('customer_id')['label'].cumsum()\n",
    "final.columns"
   ]
  },
  {
   "cell_type": "code",
   "execution_count": 3,
   "metadata": {},
   "outputs": [
    {
     "data": {
      "image/png": "[encoded data removed]",
      "text/plain": [
       "<Figure size 576x576 with 1 Axes>"
      ]
     },
     "metadata": {},
     "output_type": "display_data"
    },
    {
     "data": {
      "text/plain": [
       "<Figure size 432x288 with 0 Axes>"
      ]
     },
     "metadata": {},
     "output_type": "display_data"
    }
   ],
   "source": [
    "# plot a pie chart displaying the proportion of fraudulent claims\n",
    "df = pd.DataFrame([final.label.sum(),final.label.shape[0]-final.label.sum()], index=['Fraud', 'Normal'], columns=[\"\"])\n",
    "df.plot(kind='pie', subplots=True, figsize=(8, 8))\n",
    "fig = plt.gcf()\n",
    "plt.show()\n",
    "plt.draw()\n",
    "fig.savefig('fraud_vs_normal.png', dpi=100)"
   ]
  },
  {
   "cell_type": "code",
   "execution_count": 4,
   "metadata": {},
   "outputs": [
    {
     "data": {
      "text/html": [
       "<div>\n",
       "<style scoped>\n",
       "    .dataframe tbody tr th:only-of-type {\n",
       "        vertical-align: middle;\n",
       "    }\n",
       "\n",
       "    .dataframe tbody tr th {\n",
       "        vertical-align: top;\n",
       "    }\n",
       "\n",
       "    .dataframe thead tr th {\n",
       "        text-align: left;\n",
       "    }\n",
       "\n",
       "    .dataframe thead tr:last-of-type th {\n",
       "        text-align: right;\n",
       "    }\n",
       "</style>\n",
       "<table border=\"1\" class=\"dataframe\">\n",
       "  <thead>\n",
       "    <tr>\n",
       "      <th></th>\n",
       "      <th colspan=\"2\" halign=\"left\">label</th>\n",
       "      <th>fraud_ratio</th>\n",
       "    </tr>\n",
       "    <tr>\n",
       "      <th></th>\n",
       "      <th>sum</th>\n",
       "      <th>count</th>\n",
       "      <th></th>\n",
       "    </tr>\n",
       "    <tr>\n",
       "      <th>suburb</th>\n",
       "      <th></th>\n",
       "      <th></th>\n",
       "      <th></th>\n",
       "    </tr>\n",
       "  </thead>\n",
       "  <tbody>\n",
       "    <tr>\n",
       "      <th>Banks Points</th>\n",
       "      <td>29</td>\n",
       "      <td>136</td>\n",
       "      <td>0.213235</td>\n",
       "    </tr>\n",
       "    <tr>\n",
       "      <th>Rebecca Island</th>\n",
       "      <td>27</td>\n",
       "      <td>138</td>\n",
       "      <td>0.195652</td>\n",
       "    </tr>\n",
       "    <tr>\n",
       "      <th>Larry View</th>\n",
       "      <td>27</td>\n",
       "      <td>148</td>\n",
       "      <td>0.182432</td>\n",
       "    </tr>\n",
       "    <tr>\n",
       "      <th>Connie Terrace</th>\n",
       "      <td>19</td>\n",
       "      <td>107</td>\n",
       "      <td>0.177570</td>\n",
       "    </tr>\n",
       "    <tr>\n",
       "      <th>Bolton Point Apt.</th>\n",
       "      <td>20</td>\n",
       "      <td>119</td>\n",
       "      <td>0.168067</td>\n",
       "    </tr>\n",
       "  </tbody>\n",
       "</table>\n",
       "</div>"
      ],
      "text/plain": [
       "                  label       fraud_ratio\n",
       "                    sum count            \n",
       "suburb                                   \n",
       "Banks Points         29   136    0.213235\n",
       "Rebecca Island       27   138    0.195652\n",
       "Larry View           27   148    0.182432\n",
       "Connie Terrace       19   107    0.177570\n",
       "Bolton Point Apt.    20   119    0.168067"
      ]
     },
     "execution_count": 4,
     "metadata": {},
     "output_type": "execute_result"
    }
   ],
   "source": [
    "by_suburb = final[['suburb','label']].groupby(\"suburb\").agg(['sum','count'])\n",
    "by_suburb['fraud_ratio'] = by_suburb[\"label\",\"sum\"] / by_suburb[\"label\",\"count\"]\n",
    "by_suburb = by_suburb.sort_values(by ='fraud_ratio' ,ascending = False)\n",
    "by_suburb.head(5)"
   ]
  },
  {
   "cell_type": "code",
   "execution_count": 5,
   "metadata": {},
   "outputs": [
    {
     "data": {
      "image/png": "[encoded data removed]",
      "text/plain": [
       "<Figure size 432x288 with 1 Axes>"
      ]
     },
     "metadata": {
      "needs_background": "light"
     },
     "output_type": "display_data"
    },
    {
     "data": {
      "text/plain": [
       "<Figure size 432x288 with 0 Axes>"
      ]
     },
     "metadata": {},
     "output_type": "display_data"
    }
   ],
   "source": [
    "by_suburb.fraud_ratio.plot.bar(title=\"Fraud Ratio in different suburbs\")\n",
    "plt.tick_params(\n",
    "    axis='x',          # changes apply to the x-axis\n",
    "    which='both',      # both major and minor ticks are affected\n",
    "    bottom=False,      # ticks along the bottom edge are off\n",
    "    top=False,         # ticks along the top edge are off\n",
    "    labelbottom=False) # labels along the bottom edge are off\n",
    "fig = plt.gcf()\n",
    "plt.show()\n",
    "plt.draw()\n",
    "fig.savefig('suburb.png', dpi=100,bbox_inches='tight')"
   ]
  },
  {
   "cell_type": "code",
   "execution_count": 6,
   "metadata": {},
   "outputs": [
    {
     "data": {
      "image/png": "[encoded data removed]",
      "text/plain": [
       "<Figure size 432x288 with 1 Axes>"
      ]
     },
     "metadata": {
      "needs_background": "light"
     },
     "output_type": "display_data"
    },
    {
     "data": {
      "text/plain": [
       "<Figure size 432x288 with 0 Axes>"
      ]
     },
     "metadata": {},
     "output_type": "display_data"
    }
   ],
   "source": [
    "\n",
    "by_suburb[['fraud_ratio']].head().plot.bar(title=\"Top 5 Fradulent suburbs\",legend=False)\n",
    "fig = plt.gcf()\n",
    "plt.show()\n",
    "plt.draw()\n",
    "fig.savefig('top_suburb.png', dpi=100,bbox_inches='tight')"
   ]
  },
  {
   "cell_type": "code",
   "execution_count": 7,
   "metadata": {},
   "outputs": [
    {
     "data": {
      "image/png": "[encoded data removed]",
      "text/plain": [
       "<Figure size 432x288 with 1 Axes>"
      ]
     },
     "metadata": {
      "needs_background": "light"
     },
     "output_type": "display_data"
    },
    {
     "data": {
      "text/plain": [
       "<Figure size 432x288 with 0 Axes>"
      ]
     },
     "metadata": {},
     "output_type": "display_data"
    }
   ],
   "source": [
    "by_suburb[['fraud_ratio']].tail().plot.bar(title=\"Least Fradulent suburbs\",legend=False)\n",
    "fig = plt.gcf()\n",
    "plt.show()\n",
    "plt.draw()\n",
    "fig.savefig('tail_suburb.png', dpi=100,bbox_inches='tight')"
   ]
  },
  {
   "cell_type": "code",
   "execution_count": 8,
   "metadata": {},
   "outputs": [
    {
     "data": {
      "text/html": [
       "<div>\n",
       "<style scoped>\n",
       "    .dataframe tbody tr th:only-of-type {\n",
       "        vertical-align: middle;\n",
       "    }\n",
       "\n",
       "    .dataframe tbody tr th {\n",
       "        vertical-align: top;\n",
       "    }\n",
       "\n",
       "    .dataframe thead th {\n",
       "        text-align: right;\n",
       "    }\n",
       "</style>\n",
       "<table border=\"1\" class=\"dataframe\">\n",
       "  <thead>\n",
       "    <tr style=\"text-align: right;\">\n",
       "      <th></th>\n",
       "      <th>timeStamp</th>\n",
       "      <th>matched_payment_complete</th>\n",
       "      <th>age</th>\n",
       "      <th>home_type</th>\n",
       "      <th>square_footage</th>\n",
       "      <th>number_of_bedrooms</th>\n",
       "      <th>number_of_floors</th>\n",
       "      <th>times_denid</th>\n",
       "    </tr>\n",
       "    <tr>\n",
       "      <th>label</th>\n",
       "      <th></th>\n",
       "      <th></th>\n",
       "      <th></th>\n",
       "      <th></th>\n",
       "      <th></th>\n",
       "      <th></th>\n",
       "      <th></th>\n",
       "      <th></th>\n",
       "    </tr>\n",
       "  </thead>\n",
       "  <tbody>\n",
       "    <tr>\n",
       "      <th>0</th>\n",
       "      <td>1.520734e+09</td>\n",
       "      <td>0.002315</td>\n",
       "      <td>43.525834</td>\n",
       "      <td>0.677537</td>\n",
       "      <td>302.042401</td>\n",
       "      <td>2.447706</td>\n",
       "      <td>1.000001</td>\n",
       "      <td>0.000391</td>\n",
       "    </tr>\n",
       "    <tr>\n",
       "      <th>1</th>\n",
       "      <td>1.514369e+09</td>\n",
       "      <td>1.000000</td>\n",
       "      <td>45.317419</td>\n",
       "      <td>0.640747</td>\n",
       "      <td>293.598808</td>\n",
       "      <td>2.347341</td>\n",
       "      <td>1.000000</td>\n",
       "      <td>1.000286</td>\n",
       "    </tr>\n",
       "  </tbody>\n",
       "</table>\n",
       "</div>"
      ],
      "text/plain": [
       "          timeStamp  matched_payment_complete        age  home_type  \\\n",
       "label                                                                 \n",
       "0      1.520734e+09                  0.002315  43.525834   0.677537   \n",
       "1      1.514369e+09                  1.000000  45.317419   0.640747   \n",
       "\n",
       "       square_footage  number_of_bedrooms  number_of_floors  times_denid  \n",
       "label                                                                     \n",
       "0          302.042401            2.447706          1.000001     0.000391  \n",
       "1          293.598808            2.347341          1.000000     1.000286  "
      ]
     },
     "execution_count": 8,
     "metadata": {},
     "output_type": "execute_result"
    }
   ],
   "source": [
    "final.groupby(\"label\").mean()"
   ]
  },
  {
   "cell_type": "code",
   "execution_count": 9,
   "metadata": {},
   "outputs": [
    {
     "data": {
      "image/png": "[encoded data removed]",
      "text/plain": [
       "<Figure size 432x288 with 1 Axes>"
      ]
     },
     "metadata": {
      "needs_background": "light"
     },
     "output_type": "display_data"
    },
    {
     "data": {
      "text/plain": [
       "<Figure size 432x288 with 0 Axes>"
      ]
     },
     "metadata": {},
     "output_type": "display_data"
    }
   ],
   "source": [
    "# then we invistigate different platforms \n",
    "by_platform = final[['platform','label']].groupby(\"platform\").agg(['sum','count'])\n",
    "by_platform['fraud_ratio'] = by_platform[\"label\",\"sum\"] / by_platform[\"label\",\"count\"]\n",
    "by_platform = by_platform.sort_values(by ='fraud_ratio' ,ascending = False)\n",
    "by_platform.fraud_ratio.plot.bar(title= \"Fraud Ratio by platforms\")\n",
    "# as we can see, claims coming from mobile apps are more\n",
    "# end up being frauds, while phone calls are never fradulent \n",
    "fig = plt.gcf()\n",
    "plt.show()\n",
    "plt.draw()\n",
    "fig.savefig('by_platform.png', dpi=300,bbox_inches='tight')"
   ]
  },
  {
   "cell_type": "code",
   "execution_count": 10,
   "metadata": {},
   "outputs": [
    {
     "data": {
      "image/png": "[encoded data removed]",
      "text/plain": [
       "<Figure size 432x288 with 1 Axes>"
      ]
     },
     "metadata": {
      "needs_background": "light"
     },
     "output_type": "display_data"
    },
    {
     "data": {
      "text/plain": [
       "<Figure size 432x288 with 0 Axes>"
      ]
     },
     "metadata": {},
     "output_type": "display_data"
    }
   ],
   "source": [
    "# we can look at gender distribution as well\n",
    "by_gender = final[['gender','label']].groupby(\"gender\").agg(['sum','count'])\n",
    "by_gender['fraud_ratio'] = by_gender[\"label\",\"sum\"] / by_gender[\"label\",\"count\"]\n",
    "by_gender = by_gender.sort_values(by ='fraud_ratio' ,ascending = False)\n",
    "by_gender.fraud_ratio.plot.bar(title= \"Fraud Ratio by gender\")\n",
    "# as we can see, claims coming from mobile apps are more\n",
    "# end up being frauds, while phone calls are never fradulent \n",
    "fig = plt.gcf()\n",
    "plt.show()\n",
    "plt.draw()\n",
    "fig.savefig('by_gender.png', dpi=300,bbox_inches='tight')\n",
    "# there isn't distinct difference when it comes to gender \n",
    "# we can conduct statistical test to validate these results"
   ]
  },
  {
   "cell_type": "code",
   "execution_count": 11,
   "metadata": {},
   "outputs": [
    {
     "data": {
      "text/html": [
       "<div>\n",
       "<style scoped>\n",
       "    .dataframe tbody tr th:only-of-type {\n",
       "        vertical-align: middle;\n",
       "    }\n",
       "\n",
       "    .dataframe tbody tr th {\n",
       "        vertical-align: top;\n",
       "    }\n",
       "\n",
       "    .dataframe thead th {\n",
       "        text-align: right;\n",
       "    }\n",
       "</style>\n",
       "<table border=\"1\" class=\"dataframe\">\n",
       "  <thead>\n",
       "    <tr style=\"text-align: right;\">\n",
       "      <th></th>\n",
       "      <th>matched_payment_complete</th>\n",
       "      <th>suburb</th>\n",
       "      <th>times_denid</th>\n",
       "    </tr>\n",
       "  </thead>\n",
       "  <tbody>\n",
       "    <tr>\n",
       "      <th>0</th>\n",
       "      <td>1</td>\n",
       "      <td>325</td>\n",
       "      <td>1</td>\n",
       "    </tr>\n",
       "    <tr>\n",
       "      <th>1</th>\n",
       "      <td>1</td>\n",
       "      <td>189</td>\n",
       "      <td>0</td>\n",
       "    </tr>\n",
       "    <tr>\n",
       "      <th>2</th>\n",
       "      <td>1</td>\n",
       "      <td>453</td>\n",
       "      <td>1</td>\n",
       "    </tr>\n",
       "    <tr>\n",
       "      <th>3</th>\n",
       "      <td>1</td>\n",
       "      <td>297</td>\n",
       "      <td>1</td>\n",
       "    </tr>\n",
       "    <tr>\n",
       "      <th>4</th>\n",
       "      <td>1</td>\n",
       "      <td>288</td>\n",
       "      <td>1</td>\n",
       "    </tr>\n",
       "  </tbody>\n",
       "</table>\n",
       "</div>"
      ],
      "text/plain": [
       "   matched_payment_complete  suburb  times_denid\n",
       "0                         1     325            1\n",
       "1                         1     189            0\n",
       "2                         1     453            1\n",
       "3                         1     297            1\n",
       "4                         1     288            1"
      ]
     },
     "execution_count": 11,
     "metadata": {},
     "output_type": "execute_result"
    }
   ],
   "source": [
    "X = final.drop(\"label\", axis =1 )\n",
    "Y = final.label\n",
    "\n",
    "X.gender = X.gender.map({\"male\":1,\"female\":0})\n",
    "le = preprocessing.LabelEncoder()\n",
    "le.fit(X.suburb.unique().tolist()) # taking all the suburbs \n",
    "X.suburb = le.transform(X.suburb)\n",
    "le_plat = preprocessing.LabelEncoder()\n",
    "le_plat.fit(X.platform.unique().tolist()) \n",
    "X.platform = le_plat.transform(X.platform)\n",
    "X=X[['matched_payment_complete','suburb','times_denid']]\n",
    "\n",
    "X.head()"
   ]
  },
  {
   "cell_type": "code",
   "execution_count": 12,
   "metadata": {},
   "outputs": [
    {
     "name": "stdout",
     "output_type": "stream",
     "text": [
      "False Positives: 0.00000 normal people misclassified as frauds\n",
      "True Negative rate on test: 1.000000\n",
      "True Positive rate on test: 1.000000\n"
     ]
    }
   ],
   "source": [
    "mid = int(X.shape[0]*0.8)\n",
    "X_train = X[:mid]\n",
    "Y_train = Y[:mid]\n",
    "\n",
    "X_test = X[mid:]\n",
    "Y_test = Y[mid:]\n",
    "\n",
    "# simple decision tree\n",
    "clf = DecisionTreeClassifier(random_state=2 )\n",
    "\n",
    "clf.fit(X_train, Y_train)\n",
    "\n",
    "pred_label = pd.Series(clf.predict(X_test))\n",
    "y_test = pd.Series(Y_test.tolist())\n",
    "\n",
    "# True Negative rate on test:  TN / N\n",
    "TN = ((y_test == pred_label)&(y_test==0) ).sum()\n",
    "TP = ((y_test == pred_label)&(y_test==1) ).sum()\n",
    "\n",
    "TNR = TN / (len(Y_test)- Y_test.sum())\n",
    "TPR = TP/ Y_test.sum()\n",
    "\n",
    "FP = ((y_test != pred_label)&(y_test==0) ).sum()\n",
    "print(\"False Positives: {:.5f} normal people misclassified as frauds\".format(FP))\n",
    "\n",
    "print(\"True Negative rate on test: {:.6f}\".format(TNR))\n",
    "# print(\"True Positives: {:.5f}\".format(TP))\n",
    "print(\"True Positive rate on test: {:.6f}\".format(TPR))"
   ]
  },
  {
   "cell_type": "code",
   "execution_count": 13,
   "metadata": {},
   "outputs": [
    {
     "data": {
      "text/plain": [
       "array([0.02420439, 0.        , 0.97579561])"
      ]
     },
     "execution_count": 13,
     "metadata": {},
     "output_type": "execute_result"
    }
   ],
   "source": [
    "clf.feature_importances_"
   ]
  },
  {
   "cell_type": "code",
   "execution_count": 18,
   "metadata": {},
   "outputs": [],
   "source": [
    "import graphviz\n"
   ]
  },
  {
   "cell_type": "code",
   "execution_count": 14,
   "metadata": {},
   "outputs": [
    {
     "data": {
      "text/plain": [
       "1.0"
      ]
     },
     "execution_count": 14,
     "metadata": {},
     "output_type": "execute_result"
    }
   ],
   "source": [
    "a= len(final[(final.matched_payment_complete==1)&(final.times_denid>0)&(final.label==1)]) \n",
    "b= len(final[(final.times_denid>0)&(final.matched_payment_complete==1)])\n",
    "a/b"
   ]
  }
 ],
 "metadata": {
  "kernelspec": {
   "display_name": "Python 3",
   "language": "python",
   "name": "python3"
  },
  "language_info": {
   "codemirror_mode": {
    "name": "ipython",
    "version": 3
   },
   "file_extension": ".py",
   "mimetype": "text/x-python",
   "name": "python",
   "nbconvert_exporter": "python",
   "pygments_lexer": "ipython3",
   "version": "3.7.3"
  }
 },
 "nbformat": 4,
 "nbformat_minor": 2
}
