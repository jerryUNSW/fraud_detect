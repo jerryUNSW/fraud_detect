{
 "cells": [
  {
   "cell_type": "code",
   "execution_count": 88,
   "metadata": {},
   "outputs": [],
   "source": [
    "import numpy as np\n",
    "import pandas as pd\n",
    "import matplotlib.pyplot as plt\n",
    "import json\n",
    "import re\n",
    "from sklearn import preprocessing\n",
    "from sklearn.tree import DecisionTreeClassifier\n",
    "\n",
    "import seaborn as sns\n",
    "%matplotlib inline\n"
   ]
  },
  {
   "cell_type": "code",
   "execution_count": 28,
   "metadata": {},
   "outputs": [],
   "source": [
    "# before getting into modeling, we need to do some feature engineering. Looking at \n",
    "# the relationship between different features and the labels\n",
    "\n",
    "# splitting the whole dataset into 7:2:1\n",
    "# with different parameter combinations, train the classifier on 70% of the data\n",
    "# get the performance metrics on the 20% of the data\n",
    "# perform a grid search for the optimal combination of parameters for the classifiers\n",
    "# once found the best combination of parameters, use them to train model on 90% of the data\n",
    "# fit on the rest 10% and calculate the test metrics. "
   ]
  },
  {
   "cell_type": "code",
   "execution_count": 29,
   "metadata": {},
   "outputs": [
    {
     "data": {
      "text/html": [
       "<div>\n",
       "<style scoped>\n",
       "    .dataframe tbody tr th:only-of-type {\n",
       "        vertical-align: middle;\n",
       "    }\n",
       "\n",
       "    .dataframe tbody tr th {\n",
       "        vertical-align: top;\n",
       "    }\n",
       "\n",
       "    .dataframe thead th {\n",
       "        text-align: right;\n",
       "    }\n",
       "</style>\n",
       "<table border=\"1\" class=\"dataframe\">\n",
       "  <thead>\n",
       "    <tr style=\"text-align: right;\">\n",
       "      <th></th>\n",
       "      <th>case</th>\n",
       "      <th>platform</th>\n",
       "      <th>customer_id</th>\n",
       "      <th>timeStamp</th>\n",
       "      <th>matched_payment_complete</th>\n",
       "      <th>label</th>\n",
       "      <th>name</th>\n",
       "      <th>email</th>\n",
       "      <th>gender</th>\n",
       "      <th>age</th>\n",
       "      <th>home_type</th>\n",
       "      <th>square_footage</th>\n",
       "      <th>number_of_bedrooms</th>\n",
       "      <th>number_of_floors</th>\n",
       "      <th>household</th>\n",
       "      <th>platform_y</th>\n",
       "      <th>street</th>\n",
       "      <th>suburb</th>\n",
       "      <th>times_denid</th>\n",
       "    </tr>\n",
       "  </thead>\n",
       "  <tbody>\n",
       "    <tr>\n",
       "      <th>0</th>\n",
       "      <td>90527688b31d445</td>\n",
       "      <td>mobile_browser</td>\n",
       "      <td>99ccf1</td>\n",
       "      <td>1.483194e+09</td>\n",
       "      <td>1</td>\n",
       "      <td>1</td>\n",
       "      <td>Nicole Berry</td>\n",
       "      <td>Nicole Berry@hotmail.com</td>\n",
       "      <td>male</td>\n",
       "      <td>29</td>\n",
       "      <td>1</td>\n",
       "      <td>311.803620</td>\n",
       "      <td>2</td>\n",
       "      <td>1</td>\n",
       "      <td>[{'name': 'Oscar Berry', 'age': 25, 'gender': ...</td>\n",
       "      <td>mobile_browser</td>\n",
       "      <td>66 Lake Jamieview</td>\n",
       "      <td>PSC</td>\n",
       "      <td>1</td>\n",
       "    </tr>\n",
       "    <tr>\n",
       "      <th>1</th>\n",
       "      <td>4c9ab2942b484f2</td>\n",
       "      <td>pc_browser</td>\n",
       "      <td>9bae09</td>\n",
       "      <td>1.483197e+09</td>\n",
       "      <td>1</td>\n",
       "      <td>0</td>\n",
       "      <td>Brandi Harris</td>\n",
       "      <td>Brandi Harris@duncan.com</td>\n",
       "      <td>male</td>\n",
       "      <td>62</td>\n",
       "      <td>1</td>\n",
       "      <td>523.432957</td>\n",
       "      <td>2</td>\n",
       "      <td>1</td>\n",
       "      <td>[{'name': 'Michael Harris', 'age': 12, 'gender...</td>\n",
       "      <td>pc_browser</td>\n",
       "      <td>60 West Lisaside</td>\n",
       "      <td>Jamie Port Suite</td>\n",
       "      <td>0</td>\n",
       "    </tr>\n",
       "    <tr>\n",
       "      <th>2</th>\n",
       "      <td>cf1d5d9af6d54ef</td>\n",
       "      <td>pc_browser</td>\n",
       "      <td>b7aab4</td>\n",
       "      <td>1.483201e+09</td>\n",
       "      <td>1</td>\n",
       "      <td>1</td>\n",
       "      <td>Christopher Moody</td>\n",
       "      <td>Christopher Moody@green.info</td>\n",
       "      <td>male</td>\n",
       "      <td>40</td>\n",
       "      <td>1</td>\n",
       "      <td>221.633267</td>\n",
       "      <td>3</td>\n",
       "      <td>1</td>\n",
       "      <td>[]</td>\n",
       "      <td>pc_browser</td>\n",
       "      <td>120 Danielmouth</td>\n",
       "      <td>Unit  Box</td>\n",
       "      <td>1</td>\n",
       "    </tr>\n",
       "    <tr>\n",
       "      <th>3</th>\n",
       "      <td>ae3f3d4c667a455</td>\n",
       "      <td>pc_browser</td>\n",
       "      <td>2bc68b</td>\n",
       "      <td>1.483205e+09</td>\n",
       "      <td>1</td>\n",
       "      <td>1</td>\n",
       "      <td>Loretta Steele</td>\n",
       "      <td>Loretta Steele@patton-smith.biz</td>\n",
       "      <td>female</td>\n",
       "      <td>48</td>\n",
       "      <td>1</td>\n",
       "      <td>301.854950</td>\n",
       "      <td>3</td>\n",
       "      <td>1</td>\n",
       "      <td>[{'name': 'Zachary Steele', 'age': 48, 'gender...</td>\n",
       "      <td>pc_browser</td>\n",
       "      <td>73 Edwardfurt</td>\n",
       "      <td>Michelle Crossing Suite</td>\n",
       "      <td>1</td>\n",
       "    </tr>\n",
       "    <tr>\n",
       "      <th>4</th>\n",
       "      <td>5f4bd7c6884b4d1</td>\n",
       "      <td>mobile_browser</td>\n",
       "      <td>48802d</td>\n",
       "      <td>1.483211e+09</td>\n",
       "      <td>1</td>\n",
       "      <td>1</td>\n",
       "      <td>Taylor Ortiz</td>\n",
       "      <td>Taylor Ortiz@reyes.com</td>\n",
       "      <td>male</td>\n",
       "      <td>28</td>\n",
       "      <td>1</td>\n",
       "      <td>282.311278</td>\n",
       "      <td>2</td>\n",
       "      <td>1</td>\n",
       "      <td>[{'name': 'Stephen Ortiz', 'age': 25, 'gender'...</td>\n",
       "      <td>mobile_browser</td>\n",
       "      <td>39 Garciahaven</td>\n",
       "      <td>Melissa Roads</td>\n",
       "      <td>1</td>\n",
       "    </tr>\n",
       "  </tbody>\n",
       "</table>\n",
       "</div>"
      ],
      "text/plain": [
       "              case        platform customer_id     timeStamp  \\\n",
       "0  90527688b31d445  mobile_browser      99ccf1  1.483194e+09   \n",
       "1  4c9ab2942b484f2      pc_browser      9bae09  1.483197e+09   \n",
       "2  cf1d5d9af6d54ef      pc_browser      b7aab4  1.483201e+09   \n",
       "3  ae3f3d4c667a455      pc_browser      2bc68b  1.483205e+09   \n",
       "4  5f4bd7c6884b4d1  mobile_browser      48802d  1.483211e+09   \n",
       "\n",
       "   matched_payment_complete  label               name  \\\n",
       "0                         1      1       Nicole Berry   \n",
       "1                         1      0      Brandi Harris   \n",
       "2                         1      1  Christopher Moody   \n",
       "3                         1      1     Loretta Steele   \n",
       "4                         1      1       Taylor Ortiz   \n",
       "\n",
       "                             email  gender  age  home_type  square_footage  \\\n",
       "0         Nicole Berry@hotmail.com    male   29          1      311.803620   \n",
       "1         Brandi Harris@duncan.com    male   62          1      523.432957   \n",
       "2     Christopher Moody@green.info    male   40          1      221.633267   \n",
       "3  Loretta Steele@patton-smith.biz  female   48          1      301.854950   \n",
       "4           Taylor Ortiz@reyes.com    male   28          1      282.311278   \n",
       "\n",
       "   number_of_bedrooms  number_of_floors  \\\n",
       "0                   2                 1   \n",
       "1                   2                 1   \n",
       "2                   3                 1   \n",
       "3                   3                 1   \n",
       "4                   2                 1   \n",
       "\n",
       "                                           household      platform_y  \\\n",
       "0  [{'name': 'Oscar Berry', 'age': 25, 'gender': ...  mobile_browser   \n",
       "1  [{'name': 'Michael Harris', 'age': 12, 'gender...      pc_browser   \n",
       "2                                                 []      pc_browser   \n",
       "3  [{'name': 'Zachary Steele', 'age': 48, 'gender...      pc_browser   \n",
       "4  [{'name': 'Stephen Ortiz', 'age': 25, 'gender'...  mobile_browser   \n",
       "\n",
       "              street                   suburb  times_denid  \n",
       "0  66 Lake Jamieview                      PSC            1  \n",
       "1   60 West Lisaside         Jamie Port Suite            0  \n",
       "2    120 Danielmouth                Unit  Box            1  \n",
       "3      73 Edwardfurt  Michelle Crossing Suite            1  \n",
       "4     39 Garciahaven            Melissa Roads            1  "
      ]
     },
     "execution_count": 29,
     "metadata": {},
     "output_type": "execute_result"
    }
   ],
   "source": [
    "final = pd.read_csv(\"final.csv\", \n",
    "                             names = ['case' ,'platform', 'customer_id', 'timeStamp',\n",
    "                                      'matched_payment_complete', 'label', 'name', 'email', 'gender', 'age',\n",
    "                                      'home_type', 'square_footage', 'number_of_bedrooms', 'number_of_floors',\n",
    "                                      'household', 'platform_y', 'street', 'suburb'])\n",
    "\n",
    "final['times_denid']=final.groupby('customer_id')['label'].cumsum()\n",
    "\n",
    "# final[\"first_half_email\"] = final.email.map(lambda x: x.split(\"@\")[0])\n",
    "# final[\"name_in_email\"] = 1*(final['first_half_email'] == final[\"name\"])\n",
    "# del final['first_half_email']\n",
    "\n",
    "final.head()"
   ]
  },
  {
   "cell_type": "code",
   "execution_count": 30,
   "metadata": {},
   "outputs": [
    {
     "data": {
      "text/html": [
       "<div>\n",
       "<style scoped>\n",
       "    .dataframe tbody tr th:only-of-type {\n",
       "        vertical-align: middle;\n",
       "    }\n",
       "\n",
       "    .dataframe tbody tr th {\n",
       "        vertical-align: top;\n",
       "    }\n",
       "\n",
       "    .dataframe thead th {\n",
       "        text-align: right;\n",
       "    }\n",
       "</style>\n",
       "<table border=\"1\" class=\"dataframe\">\n",
       "  <thead>\n",
       "    <tr style=\"text-align: right;\">\n",
       "      <th></th>\n",
       "      <th>case</th>\n",
       "      <th>platform</th>\n",
       "      <th>customer_id</th>\n",
       "      <th>timeStamp</th>\n",
       "      <th>matched_payment_complete</th>\n",
       "      <th>label</th>\n",
       "      <th>name</th>\n",
       "      <th>email</th>\n",
       "      <th>gender</th>\n",
       "      <th>age</th>\n",
       "      <th>home_type</th>\n",
       "      <th>square_footage</th>\n",
       "      <th>number_of_bedrooms</th>\n",
       "      <th>number_of_floors</th>\n",
       "      <th>household</th>\n",
       "      <th>platform_y</th>\n",
       "      <th>street</th>\n",
       "      <th>suburb</th>\n",
       "      <th>times_denid</th>\n",
       "    </tr>\n",
       "  </thead>\n",
       "  <tbody>\n",
       "    <tr>\n",
       "      <th>1</th>\n",
       "      <td>4c9ab2942b484f2</td>\n",
       "      <td>pc_browser</td>\n",
       "      <td>9bae09</td>\n",
       "      <td>1.483197e+09</td>\n",
       "      <td>1</td>\n",
       "      <td>0</td>\n",
       "      <td>Brandi Harris</td>\n",
       "      <td>Brandi Harris@duncan.com</td>\n",
       "      <td>male</td>\n",
       "      <td>62</td>\n",
       "      <td>1</td>\n",
       "      <td>523.432957</td>\n",
       "      <td>2</td>\n",
       "      <td>1</td>\n",
       "      <td>[{'name': 'Michael Harris', 'age': 12, 'gender...</td>\n",
       "      <td>pc_browser</td>\n",
       "      <td>60 West Lisaside</td>\n",
       "      <td>Jamie Port Suite</td>\n",
       "      <td>0</td>\n",
       "    </tr>\n",
       "  </tbody>\n",
       "</table>\n",
       "</div>"
      ],
      "text/plain": [
       "              case    platform customer_id     timeStamp  \\\n",
       "1  4c9ab2942b484f2  pc_browser      9bae09  1.483197e+09   \n",
       "\n",
       "   matched_payment_complete  label           name                     email  \\\n",
       "1                         1      0  Brandi Harris  Brandi Harris@duncan.com   \n",
       "\n",
       "  gender  age  home_type  square_footage  number_of_bedrooms  \\\n",
       "1   male   62          1      523.432957                   2   \n",
       "\n",
       "   number_of_floors                                          household  \\\n",
       "1                 1  [{'name': 'Michael Harris', 'age': 12, 'gender...   \n",
       "\n",
       "   platform_y            street            suburb  times_denid  \n",
       "1  pc_browser  60 West Lisaside  Jamie Port Suite            0  "
      ]
     },
     "execution_count": 30,
     "metadata": {},
     "output_type": "execute_result"
    }
   ],
   "source": [
    "final[final.customer_id ==\"9bae09\"]\n",
    "# [['label','denied_times']]"
   ]
  },
  {
   "cell_type": "code",
   "execution_count": 31,
   "metadata": {},
   "outputs": [
    {
     "data": {
      "text/html": [
       "<div>\n",
       "<style scoped>\n",
       "    .dataframe tbody tr th:only-of-type {\n",
       "        vertical-align: middle;\n",
       "    }\n",
       "\n",
       "    .dataframe tbody tr th {\n",
       "        vertical-align: top;\n",
       "    }\n",
       "\n",
       "    .dataframe thead tr th {\n",
       "        text-align: left;\n",
       "    }\n",
       "\n",
       "    .dataframe thead tr:last-of-type th {\n",
       "        text-align: right;\n",
       "    }\n",
       "</style>\n",
       "<table border=\"1\" class=\"dataframe\">\n",
       "  <thead>\n",
       "    <tr>\n",
       "      <th></th>\n",
       "      <th colspan=\"2\" halign=\"left\">label</th>\n",
       "      <th>fraud_ratio</th>\n",
       "    </tr>\n",
       "    <tr>\n",
       "      <th></th>\n",
       "      <th>sum</th>\n",
       "      <th>count</th>\n",
       "      <th></th>\n",
       "    </tr>\n",
       "    <tr>\n",
       "      <th>suburb</th>\n",
       "      <th></th>\n",
       "      <th></th>\n",
       "      <th></th>\n",
       "    </tr>\n",
       "  </thead>\n",
       "  <tbody>\n",
       "    <tr>\n",
       "      <th>Banks Points</th>\n",
       "      <td>29</td>\n",
       "      <td>136</td>\n",
       "      <td>0.213235</td>\n",
       "    </tr>\n",
       "    <tr>\n",
       "      <th>Rebecca Island</th>\n",
       "      <td>27</td>\n",
       "      <td>138</td>\n",
       "      <td>0.195652</td>\n",
       "    </tr>\n",
       "    <tr>\n",
       "      <th>Larry View</th>\n",
       "      <td>27</td>\n",
       "      <td>148</td>\n",
       "      <td>0.182432</td>\n",
       "    </tr>\n",
       "    <tr>\n",
       "      <th>Connie Terrace</th>\n",
       "      <td>19</td>\n",
       "      <td>107</td>\n",
       "      <td>0.177570</td>\n",
       "    </tr>\n",
       "    <tr>\n",
       "      <th>Bolton Point Apt.</th>\n",
       "      <td>20</td>\n",
       "      <td>119</td>\n",
       "      <td>0.168067</td>\n",
       "    </tr>\n",
       "    <tr>\n",
       "      <th>Hannah Road Apt.</th>\n",
       "      <td>24</td>\n",
       "      <td>149</td>\n",
       "      <td>0.161074</td>\n",
       "    </tr>\n",
       "    <tr>\n",
       "      <th>Taylor Park</th>\n",
       "      <td>26</td>\n",
       "      <td>176</td>\n",
       "      <td>0.147727</td>\n",
       "    </tr>\n",
       "    <tr>\n",
       "      <th>Woods Trafficway Apt.</th>\n",
       "      <td>28</td>\n",
       "      <td>192</td>\n",
       "      <td>0.145833</td>\n",
       "    </tr>\n",
       "    <tr>\n",
       "      <th>Robert Views</th>\n",
       "      <td>25</td>\n",
       "      <td>176</td>\n",
       "      <td>0.142045</td>\n",
       "    </tr>\n",
       "    <tr>\n",
       "      <th>Garcia Mall</th>\n",
       "      <td>30</td>\n",
       "      <td>213</td>\n",
       "      <td>0.140845</td>\n",
       "    </tr>\n",
       "  </tbody>\n",
       "</table>\n",
       "</div>"
      ],
      "text/plain": [
       "                      label       fraud_ratio\n",
       "                        sum count            \n",
       "suburb                                       \n",
       "Banks Points             29   136    0.213235\n",
       "Rebecca Island           27   138    0.195652\n",
       "Larry View               27   148    0.182432\n",
       "Connie Terrace           19   107    0.177570\n",
       "Bolton Point Apt.        20   119    0.168067\n",
       "Hannah Road Apt.         24   149    0.161074\n",
       "Taylor Park              26   176    0.147727\n",
       "Woods Trafficway Apt.    28   192    0.145833\n",
       "Robert Views             25   176    0.142045\n",
       "Garcia Mall              30   213    0.140845"
      ]
     },
     "execution_count": 31,
     "metadata": {},
     "output_type": "execute_result"
    }
   ],
   "source": [
    "by_suburb = final[['suburb','label']].groupby(\"suburb\").agg(['sum','count'])\n",
    "by_suburb['fraud_ratio'] = by_suburb[\"label\",\"sum\"] / by_suburb[\"label\",\"count\"]\n",
    "by_suburb = by_suburb.sort_values(by ='fraud_ratio' ,ascending = False)\n",
    "by_suburb.head(10)"
   ]
  },
  {
   "cell_type": "code",
   "execution_count": 32,
   "metadata": {},
   "outputs": [
    {
     "data": {
      "image/png": "[encoded data removed]",
      "text/plain": [
       "<Figure size 432x288 with 1 Axes>"
      ]
     },
     "metadata": {},
     "output_type": "display_data"
    }
   ],
   "source": [
    "by_suburb.head(10).fraud_ratio.plot.bar()\n",
    "plt.show()\n",
    "# top 10 fradulent suburbs"
   ]
  },
  {
   "cell_type": "code",
   "execution_count": 33,
   "metadata": {},
   "outputs": [
    {
     "data": {
      "text/plain": [
       "<matplotlib.axes._subplots.AxesSubplot at 0x1a16edd438>"
      ]
     },
     "execution_count": 33,
     "metadata": {},
     "output_type": "execute_result"
    },
    {
     "data": {
      "image/png": "[encoded data removed]",
      "text/plain": [
       "<Figure size 432x288 with 1 Axes>"
      ]
     },
     "metadata": {},
     "output_type": "display_data"
    }
   ],
   "source": [
    "# some suburbs are more likely to produce frauds \n",
    "# the fraud ratio varis a lot across differen suburbs, \n",
    "# making suburb a good predictor\n",
    "by_suburb.fraud_ratio.plot()"
   ]
  },
  {
   "cell_type": "code",
   "execution_count": 34,
   "metadata": {},
   "outputs": [
    {
     "data": {
      "text/html": [
       "<div>\n",
       "<style scoped>\n",
       "    .dataframe tbody tr th:only-of-type {\n",
       "        vertical-align: middle;\n",
       "    }\n",
       "\n",
       "    .dataframe tbody tr th {\n",
       "        vertical-align: top;\n",
       "    }\n",
       "\n",
       "    .dataframe thead tr th {\n",
       "        text-align: left;\n",
       "    }\n",
       "\n",
       "    .dataframe thead tr:last-of-type th {\n",
       "        text-align: right;\n",
       "    }\n",
       "</style>\n",
       "<table border=\"1\" class=\"dataframe\">\n",
       "  <thead>\n",
       "    <tr>\n",
       "      <th></th>\n",
       "      <th colspan=\"2\" halign=\"left\">label</th>\n",
       "      <th>fraud_ratio</th>\n",
       "    </tr>\n",
       "    <tr>\n",
       "      <th></th>\n",
       "      <th>sum</th>\n",
       "      <th>count</th>\n",
       "      <th></th>\n",
       "    </tr>\n",
       "    <tr>\n",
       "      <th>platform</th>\n",
       "      <th></th>\n",
       "      <th></th>\n",
       "      <th></th>\n",
       "    </tr>\n",
       "  </thead>\n",
       "  <tbody>\n",
       "    <tr>\n",
       "      <th>mobile_app</th>\n",
       "      <td>2066</td>\n",
       "      <td>112977</td>\n",
       "      <td>0.018287</td>\n",
       "    </tr>\n",
       "    <tr>\n",
       "      <th>pc_browser</th>\n",
       "      <td>5278</td>\n",
       "      <td>338839</td>\n",
       "      <td>0.015577</td>\n",
       "    </tr>\n",
       "    <tr>\n",
       "      <th>mobile_browser</th>\n",
       "      <td>3150</td>\n",
       "      <td>251879</td>\n",
       "      <td>0.012506</td>\n",
       "    </tr>\n",
       "    <tr>\n",
       "      <th>phone_call</th>\n",
       "      <td>0</td>\n",
       "      <td>120309</td>\n",
       "      <td>0.000000</td>\n",
       "    </tr>\n",
       "  </tbody>\n",
       "</table>\n",
       "</div>"
      ],
      "text/plain": [
       "               label         fraud_ratio\n",
       "                 sum   count            \n",
       "platform                                \n",
       "mobile_app      2066  112977    0.018287\n",
       "pc_browser      5278  338839    0.015577\n",
       "mobile_browser  3150  251879    0.012506\n",
       "phone_call         0  120309    0.000000"
      ]
     },
     "execution_count": 34,
     "metadata": {},
     "output_type": "execute_result"
    }
   ],
   "source": [
    "# then we invistigate different platforms \n",
    "by_platform = final[['platform','label']].groupby(\"platform\").agg(['sum','count'])\n",
    "by_platform['fraud_ratio'] = by_platform[\"label\",\"sum\"] / by_platform[\"label\",\"count\"]\n",
    "by_platform = by_platform.sort_values(by ='fraud_ratio' ,ascending = False)\n",
    "by_platform\n",
    "# as we can see, claims coming from mobile apps are more\n",
    "# end up being frauds, while phone calls are never fradulent "
   ]
  },
  {
   "cell_type": "code",
   "execution_count": 35,
   "metadata": {},
   "outputs": [
    {
     "data": {
      "text/html": [
       "<div>\n",
       "<style scoped>\n",
       "    .dataframe tbody tr th:only-of-type {\n",
       "        vertical-align: middle;\n",
       "    }\n",
       "\n",
       "    .dataframe tbody tr th {\n",
       "        vertical-align: top;\n",
       "    }\n",
       "\n",
       "    .dataframe thead tr th {\n",
       "        text-align: left;\n",
       "    }\n",
       "\n",
       "    .dataframe thead tr:last-of-type th {\n",
       "        text-align: right;\n",
       "    }\n",
       "</style>\n",
       "<table border=\"1\" class=\"dataframe\">\n",
       "  <thead>\n",
       "    <tr>\n",
       "      <th></th>\n",
       "      <th colspan=\"2\" halign=\"left\">label</th>\n",
       "      <th>fraud_ratio</th>\n",
       "    </tr>\n",
       "    <tr>\n",
       "      <th></th>\n",
       "      <th>sum</th>\n",
       "      <th>count</th>\n",
       "      <th></th>\n",
       "    </tr>\n",
       "    <tr>\n",
       "      <th>gender</th>\n",
       "      <th></th>\n",
       "      <th></th>\n",
       "      <th></th>\n",
       "    </tr>\n",
       "  </thead>\n",
       "  <tbody>\n",
       "    <tr>\n",
       "      <th>female</th>\n",
       "      <td>5267</td>\n",
       "      <td>410077</td>\n",
       "      <td>0.012844</td>\n",
       "    </tr>\n",
       "    <tr>\n",
       "      <th>male</th>\n",
       "      <td>5227</td>\n",
       "      <td>413927</td>\n",
       "      <td>0.012628</td>\n",
       "    </tr>\n",
       "  </tbody>\n",
       "</table>\n",
       "</div>"
      ],
      "text/plain": [
       "       label         fraud_ratio\n",
       "         sum   count            \n",
       "gender                          \n",
       "female  5267  410077    0.012844\n",
       "male    5227  413927    0.012628"
      ]
     },
     "execution_count": 35,
     "metadata": {},
     "output_type": "execute_result"
    }
   ],
   "source": [
    "# we can look at gender distribution as well\n",
    "by_gender = final[['gender','label']].groupby(\"gender\").agg(['sum','count'])\n",
    "by_gender['fraud_ratio'] = by_gender[\"label\",\"sum\"] / by_gender[\"label\",\"count\"]\n",
    "by_gender = by_gender.sort_values(by ='fraud_ratio' ,ascending = False)\n",
    "by_gender\n",
    "# there isn't distinct difference when it comes to gender \n",
    "# we can conduct statistical test to validate these results"
   ]
  },
  {
   "cell_type": "code",
   "execution_count": 36,
   "metadata": {},
   "outputs": [
    {
     "data": {
      "text/html": [
       "<div>\n",
       "<style scoped>\n",
       "    .dataframe tbody tr th:only-of-type {\n",
       "        vertical-align: middle;\n",
       "    }\n",
       "\n",
       "    .dataframe tbody tr th {\n",
       "        vertical-align: top;\n",
       "    }\n",
       "\n",
       "    .dataframe thead th {\n",
       "        text-align: right;\n",
       "    }\n",
       "</style>\n",
       "<table border=\"1\" class=\"dataframe\">\n",
       "  <thead>\n",
       "    <tr style=\"text-align: right;\">\n",
       "      <th></th>\n",
       "      <th>matched_payment_complete</th>\n",
       "      <th>suburb</th>\n",
       "      <th>times_denid</th>\n",
       "    </tr>\n",
       "  </thead>\n",
       "  <tbody>\n",
       "    <tr>\n",
       "      <th>0</th>\n",
       "      <td>1</td>\n",
       "      <td>325</td>\n",
       "      <td>1</td>\n",
       "    </tr>\n",
       "    <tr>\n",
       "      <th>1</th>\n",
       "      <td>1</td>\n",
       "      <td>189</td>\n",
       "      <td>0</td>\n",
       "    </tr>\n",
       "    <tr>\n",
       "      <th>2</th>\n",
       "      <td>1</td>\n",
       "      <td>453</td>\n",
       "      <td>1</td>\n",
       "    </tr>\n",
       "    <tr>\n",
       "      <th>3</th>\n",
       "      <td>1</td>\n",
       "      <td>297</td>\n",
       "      <td>1</td>\n",
       "    </tr>\n",
       "    <tr>\n",
       "      <th>4</th>\n",
       "      <td>1</td>\n",
       "      <td>288</td>\n",
       "      <td>1</td>\n",
       "    </tr>\n",
       "  </tbody>\n",
       "</table>\n",
       "</div>"
      ],
      "text/plain": [
       "   matched_payment_complete  suburb  times_denid\n",
       "0                         1     325            1\n",
       "1                         1     189            0\n",
       "2                         1     453            1\n",
       "3                         1     297            1\n",
       "4                         1     288            1"
      ]
     },
     "execution_count": 36,
     "metadata": {},
     "output_type": "execute_result"
    }
   ],
   "source": [
    "X = final.drop(\"label\", axis =1 )\n",
    "Y = final.label\n",
    "\n",
    "X.gender = X.gender.map({\"male\":1,\"female\":0})\n",
    "le = preprocessing.LabelEncoder()\n",
    "le.fit(X.suburb.unique().tolist()) # taking all the suburbs \n",
    "X.suburb = le.transform(X.suburb)\n",
    "\n",
    "le_plat = preprocessing.LabelEncoder()\n",
    "le_plat.fit(X.platform.unique().tolist()) \n",
    "X.platform = le_plat.transform(X.platform)\n",
    "\n",
    "\n",
    "\n",
    "X=X[['matched_payment_complete','suburb','times_denid']]\n",
    "# del X['platform_y']\n",
    "# del X['case']\n",
    "# del X['email']\n",
    "# del X['street']\n",
    "# del X['household']\n",
    "# del X['name']\n",
    "# del X['customer_id']\n",
    "\n",
    "\n",
    "\n",
    "# categorial variables \n",
    "\n",
    "\n",
    "X.head()"
   ]
  },
  {
   "cell_type": "code",
   "execution_count": 37,
   "metadata": {},
   "outputs": [
    {
     "name": "stdout",
     "output_type": "stream",
     "text": [
      "False Positives: 0.00000 normal people misclassified as frauds\n",
      "True Negative rate on test: 1.000000\n",
      "True Positive rate on test: 1.000000\n"
     ]
    }
   ],
   "source": [
    "mid = int(X.shape[0]*0.8)\n",
    "X_train = X[:mid]\n",
    "Y_train = Y[:mid]\n",
    "\n",
    "X_test = X[mid:]\n",
    "Y_test = Y[mid:]\n",
    "\n",
    "# simple decision tree\n",
    "clf = DecisionTreeClassifier(random_state=2 )\n",
    "#                              ,max_features=3,max_depth=3)\n",
    "clf.fit(X_train, Y_train)\n",
    "\n",
    "pred_label = pd.Series(clf.predict(X_test))\n",
    "y_test = pd.Series(Y_test.tolist())\n",
    "\n",
    "# True Negative rate on test:  TN / N\n",
    "TN = ((y_test == pred_label)&(y_test==0) ).sum()\n",
    "TP = ((y_test == pred_label)&(y_test==1) ).sum()\n",
    "\n",
    "TNR = TN / (len(Y_test)- Y_test.sum())\n",
    "TPR = TP/ Y_test.sum()\n",
    "\n",
    "FP = ((y_test != pred_label)&(y_test==0) ).sum()\n",
    "print(\"False Positives: {:.5f} normal people misclassified as frauds\".format(FP))\n",
    "\n",
    "print(\"True Negative rate on test: {:.6f}\".format(TNR))\n",
    "# print(\"True Positives: {:.5f}\".format(TP))\n",
    "print(\"True Positive rate on test: {:.6f}\".format(TPR))"
   ]
  },
  {
   "cell_type": "code",
   "execution_count": 38,
   "metadata": {},
   "outputs": [
    {
     "data": {
      "text/plain": [
       "array([0.02420439, 0.        , 0.97579561])"
      ]
     },
     "execution_count": 38,
     "metadata": {},
     "output_type": "execute_result"
    }
   ],
   "source": [
    "clf.feature_importances_"
   ]
  },
  {
   "cell_type": "code",
   "execution_count": 39,
   "metadata": {},
   "outputs": [
    {
     "data": {
      "text/plain": [
       "1.0"
      ]
     },
     "execution_count": 39,
     "metadata": {},
     "output_type": "execute_result"
    }
   ],
   "source": [
    "a= len(final[(final.matched_payment_complete==1)&(final.times_denid>0)&(final.label==1)]) \n",
    "b= len(final[(final.times_denid>0)&(final.matched_payment_complete==1)])\n",
    "a/b"
   ]
  },
  {
   "cell_type": "code",
   "execution_count": 40,
   "metadata": {},
   "outputs": [],
   "source": [
    "import pandas as pd\n",
    "import numpy as np\n",
    "import matplotlib.pyplot as plt\n",
    " \n",
    "from sklearn.metrics import roc_curve\n",
    "from sklearn.metrics import roc_auc_score\n",
    "from sklearn.metrics import classification_report\n",
    "from sklearn.model_selection import GridSearchCV\n",
    "from sklearn.ensemble import RandomForestClassifier\n",
    "\n",
    "import matplotlib.pylab as plt\n",
    "%matplotlib inline"
   ]
  },
  {
   "cell_type": "code",
   "execution_count": 41,
   "metadata": {},
   "outputs": [],
   "source": [
    "#  Considering the new customers\n",
    "final_2 = final.copy()\n",
    "del final_2['case']\n",
    "del final_2['times_denid']\n",
    "del final_2['timeStamp']\n",
    "del final_2['customer_id']\n",
    "del final_2['street']\n",
    "del final_2['email']\n",
    "del final_2['name']\n",
    "del final_2['platform_y']\n",
    "\n",
    "del final_2['household'] # expecting to get more information outta here later!!!!\n",
    "final_2.drop_duplicates(inplace=True)\n",
    "X_ = final_2.drop(\"label\", axis =1 )\n",
    "Y_ = final_2.label\n",
    "X_.gender = X_.gender.map({\"male\":1,\"female\":0})\n",
    "le = preprocessing.LabelEncoder()\n",
    "le.fit(X_.suburb.unique().tolist()) # taking all the suburbs \n",
    "X_.suburb = le.transform(X_.suburb)\n",
    "le_plat = preprocessing.LabelEncoder()\n",
    "le_plat.fit(X_.platform.unique().tolist()) \n",
    "X_.platform = le_plat.transform(X_.platform)\n",
    "\n",
    "mid = int(X_.shape[0]*0.8)\n",
    "X_train_ = X_[:mid]\n",
    "Y_train_ = Y_[:mid]\n",
    "\n",
    "X_test_ = X_[mid:]\n",
    "Y_test_ = Y_[mid:]"
   ]
  },
  {
   "cell_type": "code",
   "execution_count": 107,
   "metadata": {},
   "outputs": [
    {
     "data": {
      "text/plain": [
       "GridSearchCV(cv=5, error_score='raise',\n",
       "       estimator=RandomForestClassifier(bootstrap=True, class_weight=None, criterion='gini',\n",
       "            max_depth=None, max_features='auto', max_leaf_nodes=None,\n",
       "            min_impurity_decrease=0.0, min_impurity_split=None,\n",
       "            min_samples_leaf=1, min_samples_split=2,\n",
       "            min_weight_fraction_leaf=0.0, n_estimators=10, n_jobs=1,\n",
       "            oob_score=False, random_state=100, verbose=0, warm_start=False),\n",
       "       fit_params=None, iid=True, n_jobs=1,\n",
       "       param_grid={'n_estimators': range(1, 11)}, pre_dispatch='2*n_jobs',\n",
       "       refit=True, return_train_score='warn', scoring='roc_auc', verbose=0)"
      ]
     },
     "execution_count": 107,
     "metadata": {},
     "output_type": "execute_result"
    }
   ],
   "source": [
    "# search for the best number of trees within a random forest\n",
    "param_test1 = {\n",
    "    'n_estimators':range(1,11)\n",
    "}\n",
    "\n",
    "clf = RandomForestClassifier(random_state=100)\n",
    "grid_1 = GridSearchCV(clf, param_test1, cv=5, scoring='roc_auc')\n",
    "grid_1.fit(X_train_,Y_train_)"
   ]
  },
  {
   "cell_type": "code",
   "execution_count": 108,
   "metadata": {},
   "outputs": [
    {
     "data": {
      "text/plain": [
       "[<matplotlib.lines.Line2D at 0x1a19c443c8>]"
      ]
     },
     "execution_count": 108,
     "metadata": {},
     "output_type": "execute_result"
    },
    {
     "data": {
      "image/png": "[encoded data removed]",
      "text/plain": [
       "<Figure size 432x288 with 1 Axes>"
      ]
     },
     "metadata": {},
     "output_type": "display_data"
    }
   ],
   "source": [
    "x = range(1,11)\n",
    "y = grid_1.cv_results_['mean_test_score']\n",
    "# plt.plot(x,y)\n",
    "plt.scatter(x,y)\n",
    "plt.plot(x[8], y[8], 'r*')"
   ]
  },
  {
   "cell_type": "code",
   "execution_count": 109,
   "metadata": {},
   "outputs": [
    {
     "data": {
      "text/plain": [
       "{'n_estimators': 9}"
      ]
     },
     "execution_count": 109,
     "metadata": {},
     "output_type": "execute_result"
    }
   ],
   "source": [
    "grid_1.best_params_"
   ]
  },
  {
   "cell_type": "markdown",
   "metadata": {},
   "source": [
    "The search result indicates that growing 9 decision trees in one RF is optimal on this dataset\n",
    "Then we conduct a grid search for the parameter combination max_depth and max_features. "
   ]
  },
  {
   "cell_type": "code",
   "execution_count": 110,
   "metadata": {},
   "outputs": [
    {
     "data": {
      "text/plain": [
       "GridSearchCV(cv=5, error_score='raise',\n",
       "       estimator=RandomForestClassifier(bootstrap=True, class_weight=None, criterion='gini',\n",
       "            max_depth=None, max_features='auto', max_leaf_nodes=None,\n",
       "            min_impurity_decrease=0.0, min_impurity_split=None,\n",
       "            min_samples_leaf=1, min_samples_split=2,\n",
       "            min_weight_fraction_leaf=0.0, n_estimators=9, n_jobs=1,\n",
       "            oob_score=False, random_state=100, verbose=0, warm_start=False),\n",
       "       fit_params=None, iid=True, n_jobs=1,\n",
       "       param_grid={'max_depth': range(3, 14, 2), 'max_features': range(3, 10)},\n",
       "       pre_dispatch='2*n_jobs', refit=True, return_train_score=False,\n",
       "       scoring='roc_auc', verbose=0)"
      ]
     },
     "execution_count": 110,
     "metadata": {},
     "output_type": "execute_result"
    }
   ],
   "source": [
    "param_test2 = {'max_depth':range(3,14,2), \n",
    "               'max_features':range(3,10)\n",
    "              }\n",
    "clf = RandomForestClassifier(random_state=100, n_estimators = 9)\n",
    "grid_2 = GridSearchCV(clf, param_test2, cv=5, scoring='roc_auc',return_train_score=False)\n",
    "grid_2.fit(X_train_,Y_train_)"
   ]
  },
  {
   "cell_type": "code",
   "execution_count": 111,
   "metadata": {},
   "outputs": [
    {
     "data": {
      "image/png": "[encoded data removed]",
      "text/plain": [
       "<Figure size 432x288 with 2 Axes>"
      ]
     },
     "metadata": {},
     "output_type": "display_data"
    }
   ],
   "source": [
    "Index = list(range(3,14,2))\n",
    "Cols = list(range(3,10))\n",
    "df = pd.DataFrame(grid_2.cv_results_[\"mean_test_score\"].reshape((6,7)), index=Index, columns=Cols)\n",
    "sns.heatmap(df,linewidths=.5,cmap=\"YlGnBu\")\n",
    "plt.xlabel('max_features')\n",
    "plt.ylabel('max_depth')\n",
    "plt.show()"
   ]
  },
  {
   "cell_type": "code",
   "execution_count": 112,
   "metadata": {},
   "outputs": [
    {
     "data": {
      "text/plain": [
       "{'max_depth': 13, 'max_features': 4}"
      ]
     },
     "execution_count": 112,
     "metadata": {},
     "output_type": "execute_result"
    }
   ],
   "source": [
    "grid_2.best_params_"
   ]
  },
  {
   "cell_type": "code",
   "execution_count": 113,
   "metadata": {},
   "outputs": [
    {
     "name": "stdout",
     "output_type": "stream",
     "text": [
      "False Positives: 345.00000 normal people misclassified as frauds\n",
      "True Negative rate on test: 0.989106\n",
      "True Positive rate on test: 0.998472\n"
     ]
    }
   ],
   "source": [
    "# taking the optimal parameter combinations, train a model and examine results in test set\n",
    "clf = RandomForestClassifier(random_state=100, n_estimators = 9,max_depth=13,max_features=4)\n",
    "\n",
    "clf.fit(X_train_, Y_train_)\n",
    "\n",
    "pred_label = pd.Series(clf.predict(X_test_))\n",
    "y_test_ = pd.Series(Y_test_.tolist())\n",
    "\n",
    "# True Negative rate on test:  TN / N\n",
    "TN = ((y_test_ == pred_label)&(y_test_==0) ).sum()\n",
    "TP = ((y_test_ == pred_label)&(y_test_==1) ).sum()\n",
    "\n",
    "TNR = TN / (len(Y_test_)- Y_test_.sum())\n",
    "TPR = TP/ Y_test_.sum()\n",
    "\n",
    "FP = ((y_test_ != pred_label)&(y_test_==0) ).sum()\n",
    "print(\"False Positives: {:.5f} normal people misclassified as frauds\".format(FP))\n",
    "\n",
    "print(\"True Negative rate on test: {:.6f}\".format(TNR))\n",
    "# print(\"True Positives: {:.5f}\".format(TP))\n",
    "print(\"True Positive rate on test: {:.6f}\".format(TPR))"
   ]
  },
  {
   "cell_type": "code",
   "execution_count": 114,
   "metadata": {},
   "outputs": [
    {
     "data": {
      "text/plain": [
       "array([0.00671   , 0.94416667, 0.0014009 , 0.01004661, 0.00096032,\n",
       "       0.0176523 , 0.00334214, 0.        , 0.01572107])"
      ]
     },
     "execution_count": 114,
     "metadata": {},
     "output_type": "execute_result"
    }
   ],
   "source": [
    "clf.feature_importances_"
   ]
  },
  {
   "cell_type": "code",
   "execution_count": 51,
   "metadata": {},
   "outputs": [
    {
     "data": {
      "text/plain": [
       "Index(['platform', 'matched_payment_complete', 'gender', 'age', 'home_type',\n",
       "       'square_footage', 'number_of_bedrooms', 'number_of_floors', 'suburb'],\n",
       "      dtype='object')"
      ]
     },
     "execution_count": 51,
     "metadata": {},
     "output_type": "execute_result"
    }
   ],
   "source": [
    "X_train_.columns"
   ]
  },
  {
   "cell_type": "code",
   "execution_count": 120,
   "metadata": {},
   "outputs": [],
   "source": [
    "# final[final.label==0]"
   ]
  }
 ],
 "metadata": {
  "kernelspec": {
   "display_name": "Python 3",
   "language": "python",
   "name": "python3"
  },
  "language_info": {
   "codemirror_mode": {
    "name": "ipython",
    "version": 3
   },
   "file_extension": ".py",
   "mimetype": "text/x-python",
   "name": "python",
   "nbconvert_exporter": "python",
   "pygments_lexer": "ipython3",
   "version": "3.6.8"
  }
 },
 "nbformat": 4,
 "nbformat_minor": 2
}
