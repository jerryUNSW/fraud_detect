{
 "cells": [
  {
   "cell_type": "code",
   "execution_count": null,
   "metadata": {},
   "outputs": [],
   "source": []
  },
  {
   "cell_type": "markdown",
   "metadata": {},
   "source": [
    "### 2. Model\n",
    "\n",
    "\n",
    "\n",
    "The log data provided by the insurance company has 2 components, the message and the time stamp. Each piece of data has a activity type, including not not limited to: \"Quote Started\", \"Payment Completed\", \"Claim Started\", \"Claim Accepted\" and \"Claim Denied\". Our aim is to build a classification model to detect fraudulant incoming claims, given the claim history of each customer. Therefore, \"Claim Started\", \"Claim Accepted\" and \"Claim Denied\" are the most important and are examined individually. "
   ]
  },
  {
   "cell_type": "code",
   "execution_count": null,
   "metadata": {},
   "outputs": [],
   "source": []
  },
  {
   "cell_type": "markdown",
   "metadata": {},
   "source": [
    "##### Data Description\n",
    "The log data provided by the insurance company has 2 components, the message and the time stamp. Each piece of data has a activity type, including but not limited to: \"Quote Started\", \"Payment Completed\", \"Claim Started\", \"Claim Accepted\" and \"Claim Denied\". \n",
    "\n",
    "The data is in the log form and therefore should go through data cleaning, data transformation and data curation processes to be in tabular form, on which we build a classifer of fraudulant activities. Challenges encountered with this data include:\n",
    "\n",
    "1. Not all data are relevant. We split the original data according to the activity type. \"Claim Started\", \"Claim Accepted\" and \"Claim Denied\" are the most important ones and are examined individually. \n",
    "\n",
    "2. There are several different delimer seperating fields in each piece of data. For example, the case ID, platform and activity_type are separated by \"-\", whereas the time stamp and the rest of the information is separated by \",\".\n",
    "\n",
    "3. Due to confidentiality concerns, the insurance company's clients' information are transfromed and substitued by pseudo names. No meaningful conclusion can be drawn from these names and addresses directluy, but the distribution of these data are kept intact. \n",
    "\n",
    "4. One customer ID could correspond to different payload, in which they submit different information about their households and homes. One customer ID could also submit multiple claims and there is no given link between a \"Claim Started\" and \"Claim Denied\" or \"Claim Accepted\" cases. We will process the data on the assumption that each \"Claim Started\" case corresponds to the most recent submitted payload from \"Quote Completed\". Also, each \"Claim Denied\" or \"Claim Accepted\" corresponds to the most recent \"Claim Started\".  The customers with more than one payload and those who submitted more than one claims only constitute a small proportion of all data.\n",
    "\n",
    "We aim to give all the \"Claim Started\" cases a label (fraud or not) along with some features extracted mainly from the \"Quote Completed\" data. At last we build a classification model to detect fraudulant incoming claims, given the claim history of each customer. "
   ]
  },
  {
   "cell_type": "code",
   "execution_count": 12,
   "metadata": {},
   "outputs": [
    {
     "data": {
      "image/png": "[encoded data removed]",
      "text/plain": [
       "<Figure size 432x288 with 1 Axes>"
      ]
     },
     "metadata": {},
     "output_type": "display_data"
    }
   ],
   "source": [
    "%matplotlib inline\n",
    "import matplotlib.pyplot as plotter\n",
    "colors  = (\"blue\", \"yellow\")\n",
    "pieLabels              = 'denied', 'accepted'\n",
    "populationShare     = [10494, 816301]\n",
    "\n",
    "figureObject, axesObject = plotter.subplots()\n",
    "axesObject.pie(populationShare,\n",
    "        labels=pieLabels,\n",
    "        colors = colors,\n",
    "        autopct='%1.2f',\n",
    "        startangle=90)\n",
    "axesObject.axis('equal')\n",
    "plotter.show()"
   ]
  },
  {
   "cell_type": "markdown",
   "metadata": {},
   "source": [
    "We have discovered that the customers in this dataset can start multiple quotes and claims, which makes our analysis more complicated. Fortunately, only a smally portion of the customers who started multiple quotes were both denied and accepted at some point. The rest of the population either gets denied all the time or accepted all the time. "
   ]
  },
  {
   "cell_type": "markdown",
   "metadata": {},
   "source": [
    "An important feature that really separates the frauds from the norm is whether the timeStamp of activity \"Payment Completed\" and \"Claim Started\" are the same. Interestingly, all of the claims labelled fraud in this dataset has this property, but not the other way around. "
   ]
  },
  {
   "cell_type": "code",
   "execution_count": 26,
   "metadata": {},
   "outputs": [
    {
     "data": {
      "text/latex": [
       "$$ P( fraud | matching \\ timeStamp ) = \\frac{ P(fraud \\ \\& \\ matching \\ timeStamp) }{P(matching \\ timeStamp)} = 10494/12377 = 0.8479 $$\n"
      ],
      "text/plain": [
       "<IPython.core.display.Latex object>"
      ]
     },
     "metadata": {},
     "output_type": "display_data"
    }
   ],
   "source": [
    "%%latex \n",
    "$$ P( fraud | matching \\ timeStamp ) = \\frac{ P(fraud \\ \\& \\ matching \\ timeStamp) }{P(matching \\ timeStamp)} = 10494/12377 = 0.8479 $$"
   ]
  },
  {
   "cell_type": "markdown",
   "metadata": {},
   "source": [
    "1. how many claims, how many accepted, how many denied \n",
    "\n",
    "2. "
   ]
  },
  {
   "cell_type": "markdown",
   "metadata": {},
   "source": [
    "### 3. Analysis"
   ]
  }
 ],
 "metadata": {
  "kernelspec": {
   "display_name": "Python 3",
   "language": "python",
   "name": "python3"
  },
  "language_info": {
   "codemirror_mode": {
    "name": "ipython",
    "version": 3
   },
   "file_extension": ".py",
   "mimetype": "text/x-python",
   "name": "python",
   "nbconvert_exporter": "python",
   "pygments_lexer": "ipython3",
   "version": "3.7.3"
  }
 },
 "nbformat": 4,
 "nbformat_minor": 2
}
