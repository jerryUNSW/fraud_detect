{
 "cells": [
  {
   "cell_type": "code",
   "execution_count": 11,
   "metadata": {},
   "outputs": [],
   "source": [
    "import pandas as pd\n",
    "import numpy as np\n",
    "import matplotlib.pyplot as plt\n",
    " \n",
    "from sklearn.metrics import roc_curve\n",
    "from sklearn.metrics import roc_auc_score\n",
    "from sklearn.metrics import classification_report\n",
    "from sklearn.model_selection import GridSearchCV\n",
    "from sklearn.ensemble import RandomForestClassifier\n",
    "from sklearn import preprocessing\n",
    "\n",
    "import seaborn as sns\n",
    "%matplotlib inline"
   ]
  },
  {
   "cell_type": "code",
   "execution_count": 7,
   "metadata": {},
   "outputs": [],
   "source": [
    "final = pd.read_csv(\"final.csv\", \n",
    "                             names = ['case' ,'platform', 'customer_id', 'timeStamp',\n",
    "                                      'matched_payment_complete', 'label', 'name', 'email', 'gender', 'age',\n",
    "                                      'home_type', 'square_footage', 'number_of_bedrooms', 'number_of_floors',\n",
    "                                      'household', 'platform_y', 'street', 'suburb'])\n",
    "final['times_denid']=final.groupby('customer_id')['label'].cumsum()\n",
    "\n",
    "\n",
    "#  Considering the new customers\n",
    "final_2 = final.copy()\n",
    "del final_2['case']\n",
    "del final_2['times_denid']\n",
    "del final_2['timeStamp']\n",
    "del final_2['customer_id']\n",
    "del final_2['street']\n",
    "del final_2['email']\n",
    "del final_2['name']\n",
    "del final_2['platform_y']\n",
    "\n",
    "del final_2['household'] # expecting to get more information outta here later!!!!\n",
    "final_2.drop_duplicates(inplace=True)\n",
    "X_ = final_2.drop(\"label\", axis =1 )\n",
    "Y_ = final_2.label\n",
    "X_.gender = X_.gender.map({\"male\":1,\"female\":0})\n",
    "le = preprocessing.LabelEncoder()\n",
    "le.fit(X_.suburb.unique().tolist()) # taking all the suburbs \n",
    "X_.suburb = le.transform(X_.suburb)\n",
    "le_plat = preprocessing.LabelEncoder()\n",
    "le_plat.fit(X_.platform.unique().tolist()) \n",
    "X_.platform = le_plat.transform(X_.platform)\n",
    "\n",
    "mid = int(X_.shape[0]*0.8)\n",
    "X_train_ = X_[:mid]\n",
    "Y_train_ = Y_[:mid]\n",
    "\n",
    "X_test_ = X_[mid:]\n",
    "Y_test_ = Y_[mid:]"
   ]
  },
  {
   "cell_type": "code",
   "execution_count": 8,
   "metadata": {},
   "outputs": [
    {
     "data": {
      "text/plain": [
       "GridSearchCV(cv=5, error_score='raise-deprecating',\n",
       "       estimator=RandomForestClassifier(bootstrap=True, class_weight=None, criterion='gini',\n",
       "            max_depth=None, max_features='auto', max_leaf_nodes=None,\n",
       "            min_impurity_decrease=0.0, min_impurity_split=None,\n",
       "            min_samples_leaf=1, min_samples_split=2,\n",
       "            min_weight_fraction_leaf=0.0, n_estimators='warn', n_jobs=None,\n",
       "            oob_score=False, random_state=100, verbose=0, warm_start=False),\n",
       "       fit_params=None, iid='warn', n_jobs=None,\n",
       "       param_grid={'n_estimators': range(1, 11)}, pre_dispatch='2*n_jobs',\n",
       "       refit=True, return_train_score='warn', scoring='roc_auc', verbose=0)"
      ]
     },
     "execution_count": 8,
     "metadata": {},
     "output_type": "execute_result"
    }
   ],
   "source": [
    "# search for the best number of trees within a random forest\n",
    "param_test1 = {\n",
    "    'n_estimators':range(1,11)\n",
    "}\n",
    "\n",
    "clf = RandomForestClassifier(random_state=100)\n",
    "grid_1 = GridSearchCV(clf, param_test1, cv=5, scoring='roc_auc')\n",
    "grid_1.fit(X_train_,Y_train_)"
   ]
  },
  {
   "cell_type": "code",
   "execution_count": 9,
   "metadata": {},
   "outputs": [
    {
     "data": {
      "image/png": "[encoded data removed]",
      "text/plain": [
       "<Figure size 432x288 with 1 Axes>"
      ]
     },
     "metadata": {
      "needs_background": "light"
     },
     "output_type": "display_data"
    },
    {
     "data": {
      "text/plain": [
       "<Figure size 432x288 with 0 Axes>"
      ]
     },
     "metadata": {},
     "output_type": "display_data"
    }
   ],
   "source": [
    "x = range(1,11)\n",
    "y = grid_1.cv_results_['mean_test_score']\n",
    "# plt.plot(x,y)\n",
    "plt.scatter(x,y)\n",
    "plt.plot(x[4-1], y[4-1], 'r*')\n",
    "\n",
    "fig = plt.gcf()\n",
    "plt.show()\n",
    "plt.draw()\n",
    "fig.savefig('gridSearch1.png', dpi=100)"
   ]
  },
  {
   "cell_type": "markdown",
   "metadata": {},
   "source": [
    "The search result indicates that growing 9 decision trees in one RF is optimal on this dataset\n",
    "Then we conduct a grid search for the parameter combination max_depth and max_features. "
   ]
  },
  {
   "cell_type": "code",
   "execution_count": 12,
   "metadata": {},
   "outputs": [
    {
     "data": {
      "image/png": "[encoded data removed]",
      "text/plain": [
       "<Figure size 432x288 with 2 Axes>"
      ]
     },
     "metadata": {
      "needs_background": "light"
     },
     "output_type": "display_data"
    },
    {
     "data": {
      "text/plain": [
       "<Figure size 432x288 with 0 Axes>"
      ]
     },
     "metadata": {},
     "output_type": "display_data"
    }
   ],
   "source": [
    "param_test2 = {'max_depth':range(3,14,2), \n",
    "               'max_features':range(3,10)\n",
    "              }\n",
    "clf = RandomForestClassifier(random_state=100, n_estimators = 4)\n",
    "grid_2 = GridSearchCV(clf, param_test2, cv=5, scoring='roc_auc',return_train_score=False)\n",
    "grid_2.fit(X_train_,Y_train_)\n",
    "\n",
    "Index = list(range(3,14,2))\n",
    "Cols = list(range(3,10))\n",
    "df = pd.DataFrame(grid_2.cv_results_[\"mean_test_score\"].reshape((6,7)), index=Index, columns=Cols)\n",
    "sns.heatmap(df,linewidths=.5,cmap=\"YlGnBu\")\n",
    "plt.xlabel('max_features')\n",
    "plt.ylabel('max_depth')\n",
    "\n",
    "fig1 = plt.gcf()\n",
    "plt.show()\n",
    "plt.draw()\n",
    "fig1.savefig('gridSearch2.png', dpi=100)"
   ]
  },
  {
   "cell_type": "code",
   "execution_count": 13,
   "metadata": {},
   "outputs": [
    {
     "name": "stdout",
     "output_type": "stream",
     "text": [
      "False Positives: 346.00000 normal people misclassified as frauds\n",
      "False Negatives: 0.00000 normal people misclassified as frauds\n",
      "True Negative rate on test: 0.989074\n",
      "True Positive rate on test: 1.000000\n"
     ]
    }
   ],
   "source": [
    "# taking the optimal parameter combinations, train a model and examine results in test set\n",
    "clf = RandomForestClassifier(random_state=100, n_estimators = 4,max_depth=3,max_features=5)\n",
    "\n",
    "clf.fit(X_train_, Y_train_)\n",
    "\n",
    "pred_label = pd.Series(clf.predict(X_test_))\n",
    "y_test_ = pd.Series(Y_test_.tolist())\n",
    "\n",
    "# True Negative rate on test:  TN / N\n",
    "TN = ((y_test_ == pred_label)&(y_test_==0) ).sum()\n",
    "TP = ((y_test_ == pred_label)&(y_test_==1) ).sum()\n",
    "\n",
    "TNR = TN / (len(Y_test_)- Y_test_.sum())\n",
    "TPR = TP/ Y_test_.sum()\n",
    "\n",
    "FP = ((y_test_ != pred_label)&(y_test_==0) ).sum()\n",
    "print(\"False Positives: {:.5f} normal people misclassified as frauds\".format(FP))\n",
    "\n",
    "FN = ((y_test_ != pred_label)&(y_test_==1) ).sum()\n",
    "print(\"False Negatives: {:.5f} normal people misclassified as frauds\".format(FN))\n",
    "\n",
    "print(\"True Negative rate on test: {:.6f}\".format(TNR))\n",
    "# print(\"True Positives: {:.5f}\".format(TP))\n",
    "print(\"True Positive rate on test: {:.6f}\".format(TPR))"
   ]
  },
  {
   "cell_type": "code",
   "execution_count": 14,
   "metadata": {},
   "outputs": [
    {
     "data": {
      "text/plain": [
       "array([5.73674529e-03, 9.93893984e-01, 2.30047569e-05, 0.00000000e+00,\n",
       "       8.17899883e-05, 1.21588795e-04, 4.48176310e-06, 0.00000000e+00,\n",
       "       1.38405725e-04])"
      ]
     },
     "execution_count": 14,
     "metadata": {},
     "output_type": "execute_result"
    }
   ],
   "source": [
    "clf.feature_importances_"
   ]
  },
  {
   "cell_type": "code",
   "execution_count": 15,
   "metadata": {},
   "outputs": [
    {
     "data": {
      "text/plain": [
       "Index(['platform', 'matched_payment_complete', 'gender', 'age', 'home_type',\n",
       "       'square_footage', 'number_of_bedrooms', 'number_of_floors', 'suburb'],\n",
       "      dtype='object')"
      ]
     },
     "execution_count": 15,
     "metadata": {},
     "output_type": "execute_result"
    }
   ],
   "source": [
    "X_train_.columns"
   ]
  }
 ],
 "metadata": {
  "kernelspec": {
   "display_name": "Python 3",
   "language": "python",
   "name": "python3"
  },
  "language_info": {
   "codemirror_mode": {
    "name": "ipython",
    "version": 3
   },
   "file_extension": ".py",
   "mimetype": "text/x-python",
   "name": "python",
   "nbconvert_exporter": "python",
   "pygments_lexer": "ipython3",
   "version": "3.7.3"
  }
 },
 "nbformat": 4,
 "nbformat_minor": 2
}
