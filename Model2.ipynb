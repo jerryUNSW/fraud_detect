{
 "cells": [
  {
   "cell_type": "code",
   "execution_count": 2,
   "metadata": {},
   "outputs": [],
   "source": [
    "import pandas as pd\n",
    "import numpy as np\n",
    "import matplotlib.pyplot as plt\n",
    " \n",
    "from sklearn.metrics import roc_curve\n",
    "from sklearn.metrics import roc_auc_score\n",
    "from sklearn.metrics import classification_report\n",
    "from sklearn.model_selection import GridSearchCV\n",
    "from sklearn.ensemble import RandomForestClassifier\n",
    "from sklearn import preprocessing\n",
    "\n",
    "import seaborn as sns\n",
    "%matplotlib inline"
   ]
  },
  {
   "cell_type": "code",
   "execution_count": 3,
   "metadata": {},
   "outputs": [],
   "source": [
    "import pydotplus\n",
    "from sklearn import tree\n",
    "import collections\n",
    "import graphviz\n",
    "from sklearn.tree import export_graphviz"
   ]
  },
  {
   "cell_type": "code",
   "execution_count": 4,
   "metadata": {},
   "outputs": [],
   "source": [
    "final = pd.read_csv(\"final.csv\", \n",
    "                             names = ['case' ,'platform', 'customer_id', 'timeStamp',\n",
    "                                      'matched_payment_complete', 'label', 'name', 'email', 'gender', 'age',\n",
    "                                      'home_type', 'square_footage', 'number_of_bedrooms', 'number_of_floors',\n",
    "                                      'household', 'street', 'suburb'])"
   ]
  },
  {
   "cell_type": "code",
   "execution_count": 5,
   "metadata": {},
   "outputs": [],
   "source": [
    "final['times_denid']=final.groupby('customer_id')['label'].cumsum()"
   ]
  },
  {
   "cell_type": "code",
   "execution_count": 6,
   "metadata": {},
   "outputs": [],
   "source": [
    "#  Considering the new customers\n",
    "final_2 = final.copy()\n",
    "del final_2['case']\n",
    "del final_2['times_denid']\n",
    "del final_2['timeStamp']\n",
    "del final_2['customer_id']\n",
    "del final_2['street']\n",
    "del final_2['email']\n",
    "del final_2['name']\n",
    "del final_2['household'] # expecting to get more information outta here later!!!!\n",
    "final_2.drop_duplicates(inplace=True)"
   ]
  },
  {
   "cell_type": "code",
   "execution_count": 7,
   "metadata": {},
   "outputs": [
    {
     "data": {
      "text/html": [
       "<div>\n",
       "<style scoped>\n",
       "    .dataframe tbody tr th:only-of-type {\n",
       "        vertical-align: middle;\n",
       "    }\n",
       "\n",
       "    .dataframe tbody tr th {\n",
       "        vertical-align: top;\n",
       "    }\n",
       "\n",
       "    .dataframe thead th {\n",
       "        text-align: right;\n",
       "    }\n",
       "</style>\n",
       "<table border=\"1\" class=\"dataframe\">\n",
       "  <thead>\n",
       "    <tr style=\"text-align: right;\">\n",
       "      <th></th>\n",
       "      <th>platform</th>\n",
       "      <th>matched_payment_complete</th>\n",
       "      <th>label</th>\n",
       "      <th>gender</th>\n",
       "      <th>age</th>\n",
       "      <th>home_type</th>\n",
       "      <th>square_footage</th>\n",
       "      <th>number_of_bedrooms</th>\n",
       "      <th>number_of_floors</th>\n",
       "      <th>suburb</th>\n",
       "    </tr>\n",
       "  </thead>\n",
       "  <tbody>\n",
       "    <tr>\n",
       "      <th>0</th>\n",
       "      <td>mobile_browser</td>\n",
       "      <td>1</td>\n",
       "      <td>1</td>\n",
       "      <td>male</td>\n",
       "      <td>29</td>\n",
       "      <td>1</td>\n",
       "      <td>311.803620</td>\n",
       "      <td>2</td>\n",
       "      <td>1</td>\n",
       "      <td>PSC</td>\n",
       "    </tr>\n",
       "    <tr>\n",
       "      <th>1</th>\n",
       "      <td>pc_browser</td>\n",
       "      <td>1</td>\n",
       "      <td>0</td>\n",
       "      <td>male</td>\n",
       "      <td>62</td>\n",
       "      <td>1</td>\n",
       "      <td>523.432957</td>\n",
       "      <td>2</td>\n",
       "      <td>1</td>\n",
       "      <td>Jamie Port Suite</td>\n",
       "    </tr>\n",
       "    <tr>\n",
       "      <th>2</th>\n",
       "      <td>pc_browser</td>\n",
       "      <td>1</td>\n",
       "      <td>1</td>\n",
       "      <td>male</td>\n",
       "      <td>40</td>\n",
       "      <td>1</td>\n",
       "      <td>221.633267</td>\n",
       "      <td>3</td>\n",
       "      <td>1</td>\n",
       "      <td>Unit  Box</td>\n",
       "    </tr>\n",
       "    <tr>\n",
       "      <th>3</th>\n",
       "      <td>pc_browser</td>\n",
       "      <td>1</td>\n",
       "      <td>1</td>\n",
       "      <td>female</td>\n",
       "      <td>48</td>\n",
       "      <td>1</td>\n",
       "      <td>301.854950</td>\n",
       "      <td>3</td>\n",
       "      <td>1</td>\n",
       "      <td>Michelle Crossing Suite</td>\n",
       "    </tr>\n",
       "    <tr>\n",
       "      <th>4</th>\n",
       "      <td>mobile_browser</td>\n",
       "      <td>1</td>\n",
       "      <td>1</td>\n",
       "      <td>male</td>\n",
       "      <td>28</td>\n",
       "      <td>1</td>\n",
       "      <td>282.311278</td>\n",
       "      <td>2</td>\n",
       "      <td>1</td>\n",
       "      <td>Melissa Roads</td>\n",
       "    </tr>\n",
       "  </tbody>\n",
       "</table>\n",
       "</div>"
      ],
      "text/plain": [
       "         platform  matched_payment_complete  label  gender  age  home_type  \\\n",
       "0  mobile_browser                         1      1    male   29          1   \n",
       "1      pc_browser                         1      0    male   62          1   \n",
       "2      pc_browser                         1      1    male   40          1   \n",
       "3      pc_browser                         1      1  female   48          1   \n",
       "4  mobile_browser                         1      1    male   28          1   \n",
       "\n",
       "   square_footage  number_of_bedrooms  number_of_floors  \\\n",
       "0      311.803620                   2                 1   \n",
       "1      523.432957                   2                 1   \n",
       "2      221.633267                   3                 1   \n",
       "3      301.854950                   3                 1   \n",
       "4      282.311278                   2                 1   \n",
       "\n",
       "                    suburb  \n",
       "0                      PSC  \n",
       "1         Jamie Port Suite  \n",
       "2                Unit  Box  \n",
       "3  Michelle Crossing Suite  \n",
       "4            Melissa Roads  "
      ]
     },
     "execution_count": 7,
     "metadata": {},
     "output_type": "execute_result"
    }
   ],
   "source": [
    "final_2.head()"
   ]
  },
  {
   "cell_type": "code",
   "execution_count": 8,
   "metadata": {},
   "outputs": [],
   "source": [
    "X_ = final_2.drop(\"label\", axis =1 )\n",
    "Y_ = final_2.label\n",
    "X_.gender = X_.gender.map({\"male\":1,\"female\":0})\n",
    "le = preprocessing.LabelEncoder()\n",
    "le.fit(X_.suburb.unique().tolist()) # taking all the suburbs \n",
    "X_.suburb = le.transform(X_.suburb)\n",
    "le_plat = preprocessing.LabelEncoder()\n",
    "le_plat.fit(X_.platform.unique().tolist()) \n",
    "X_.platform = le_plat.transform(X_.platform)\n",
    "\n",
    "mid = int(X_.shape[0]*0.7)\n",
    "X_train_ = X_[:mid]\n",
    "Y_train_ = Y_[:mid]\n",
    "\n",
    "X_test_ = X_[mid:]\n",
    "Y_test_ = Y_[mid:]"
   ]
  },
  {
   "cell_type": "code",
   "execution_count": 9,
   "metadata": {},
   "outputs": [
    {
     "data": {
      "text/plain": [
       "GridSearchCV(cv=5, error_score='raise',\n",
       "       estimator=RandomForestClassifier(bootstrap=True, class_weight=None, criterion='gini',\n",
       "            max_depth=None, max_features='auto', max_leaf_nodes=None,\n",
       "            min_impurity_decrease=0.0, min_impurity_split=None,\n",
       "            min_samples_leaf=1, min_samples_split=2,\n",
       "            min_weight_fraction_leaf=0.0, n_estimators=10, n_jobs=1,\n",
       "            oob_score=False, random_state=100, verbose=0, warm_start=False),\n",
       "       fit_params=None, iid=True, n_jobs=1,\n",
       "       param_grid={'n_estimators': range(1, 11)}, pre_dispatch='2*n_jobs',\n",
       "       refit=True, return_train_score='warn', scoring='roc_auc', verbose=0)"
      ]
     },
     "execution_count": 9,
     "metadata": {},
     "output_type": "execute_result"
    }
   ],
   "source": [
    "# search for the best number of trees within a random forest\n",
    "param_test1 = {\n",
    "    'n_estimators':range(1,11)\n",
    "}\n",
    "\n",
    "clf = RandomForestClassifier(random_state=100)\n",
    "grid_1 = GridSearchCV(clf, param_test1, cv=5, scoring='roc_auc')\n",
    "grid_1.fit(X_train_,Y_train_)"
   ]
  },
  {
   "cell_type": "code",
   "execution_count": 10,
   "metadata": {},
   "outputs": [
    {
     "data": {
      "image/png": "[encoded data removed]",
      "text/plain": [
       "<Figure size 432x288 with 1 Axes>"
      ]
     },
     "metadata": {},
     "output_type": "display_data"
    },
    {
     "data": {
      "text/plain": [
       "<Figure size 432x288 with 0 Axes>"
      ]
     },
     "metadata": {},
     "output_type": "display_data"
    }
   ],
   "source": [
    "x = range(1,11)\n",
    "y = grid_1.cv_results_['mean_test_score']\n",
    "# plt.plot(x,y)\n",
    "plt.scatter(x,y)\n",
    "plt.plot(x[4-1], y[4-1], 'r*')\n",
    "\n",
    "fig = plt.gcf()\n",
    "plt.show()\n",
    "plt.draw()\n",
    "fig.savefig('gridSearch1.png', dpi=100)"
   ]
  },
  {
   "cell_type": "markdown",
   "metadata": {},
   "source": [
    "The search result indicates that growing 9 decision trees in one RF is optimal on this dataset\n",
    "Then we conduct a grid search for the parameter combination max_depth and max_features. "
   ]
  },
  {
   "cell_type": "code",
   "execution_count": 11,
   "metadata": {},
   "outputs": [
    {
     "data": {
      "image/png": "[encoded data removed]",
      "text/plain": [
       "<Figure size 432x288 with 2 Axes>"
      ]
     },
     "metadata": {},
     "output_type": "display_data"
    },
    {
     "data": {
      "text/plain": [
       "<Figure size 432x288 with 0 Axes>"
      ]
     },
     "metadata": {},
     "output_type": "display_data"
    }
   ],
   "source": [
    "param_test2 = {'max_depth':range(3,14,2), \n",
    "               'max_features':range(3,10)\n",
    "              }\n",
    "clf = RandomForestClassifier(random_state=100, n_estimators = 4)\n",
    "grid_2 = GridSearchCV(clf, param_test2, cv=5, scoring='roc_auc',return_train_score=False)\n",
    "grid_2.fit(X_train_,Y_train_)\n",
    "\n",
    "Index = list(range(3,14,2))\n",
    "Cols = list(range(3,10))\n",
    "df = pd.DataFrame(grid_2.cv_results_[\"mean_test_score\"].reshape((6,7)), index=Index, columns=Cols)\n",
    "sns.heatmap(df,linewidths=.5,cmap=\"YlGnBu\")\n",
    "plt.xlabel('max_features')\n",
    "plt.ylabel('max_depth')\n",
    "\n",
    "fig1 = plt.gcf()\n",
    "plt.show()\n",
    "plt.draw()\n",
    "fig1.savefig('gridSearch2.png', dpi=100)"
   ]
  },
  {
   "cell_type": "code",
   "execution_count": 12,
   "metadata": {},
   "outputs": [
    {
     "name": "stdout",
     "output_type": "stream",
     "text": [
      "False Positives: 549.00000 normal people misclassified as frauds\n",
      "False Negatives: 0.00000 normal people misclassified as frauds\n",
      "True Negative rate on test: 0.988399\n",
      "True Positive rate on test: 1.000000\n"
     ]
    }
   ],
   "source": [
    "# taking the optimal parameter combinations, train a model and examine results in test set\n",
    "clf = RandomForestClassifier(random_state=100, n_estimators = 4,max_depth=3,max_features=5)\n",
    "\n",
    "clf.fit(X_train_, Y_train_)\n",
    "\n",
    "pred_label = pd.Series(clf.predict(X_test_))\n",
    "y_test_ = pd.Series(Y_test_.tolist())\n",
    "\n",
    "# True Negative rate on test:  TN / N\n",
    "TN = ((y_test_ == pred_label)&(y_test_==0) ).sum()\n",
    "TP = ((y_test_ == pred_label)&(y_test_==1) ).sum()\n",
    "\n",
    "TNR = TN / (len(Y_test_)- Y_test_.sum())\n",
    "TPR = TP/ Y_test_.sum()\n",
    "\n",
    "FP = ((y_test_ != pred_label)&(y_test_==0) ).sum()\n",
    "print(\"False Positives: {:.5f} normal people misclassified as frauds\".format(FP))\n",
    "\n",
    "FN = ((y_test_ != pred_label)&(y_test_==1) ).sum()\n",
    "print(\"False Negatives: {:.5f} normal people misclassified as frauds\".format(FN))\n",
    "\n",
    "print(\"True Negative rate on test: {:.6f}\".format(TNR))\n",
    "# print(\"True Positives: {:.5f}\".format(TP))\n",
    "print(\"True Positive rate on test: {:.6f}\".format(TPR))"
   ]
  },
  {
   "cell_type": "code",
   "execution_count": 17,
   "metadata": {},
   "outputs": [
    {
     "data": {
      "text/plain": [
       "DecisionTreeClassifier(class_weight=None, criterion='gini', max_depth=3,\n",
       "            max_features=5, max_leaf_nodes=None, min_impurity_decrease=0.0,\n",
       "            min_impurity_split=None, min_samples_leaf=1,\n",
       "            min_samples_split=2, min_weight_fraction_leaf=0.0,\n",
       "            presort=False, random_state=186422792, splitter='best')"
      ]
     },
     "execution_count": 17,
     "metadata": {},
     "output_type": "execute_result"
    }
   ],
   "source": [
    "clf.estimators_[0]"
   ]
  },
  {
   "cell_type": "code",
   "execution_count": 13,
   "metadata": {},
   "outputs": [
    {
     "data": {
      "text/plain": [
       "array([4.53914221e-03, 9.94826108e-01, 4.56635061e-05, 0.00000000e+00,\n",
       "       6.68789665e-05, 3.78874823e-04, 0.00000000e+00, 0.00000000e+00,\n",
       "       1.43332268e-04])"
      ]
     },
     "execution_count": 13,
     "metadata": {},
     "output_type": "execute_result"
    }
   ],
   "source": [
    "clf.feature_importances_"
   ]
  },
  {
   "cell_type": "code",
   "execution_count": 23,
   "metadata": {},
   "outputs": [],
   "source": [
    "def draw_tree(clf,name):\n",
    "    tree_data = export_graphviz(clf, \n",
    "                    out_file=None, \n",
    "                    feature_names = X_train_.columns,\n",
    "                    class_names = [\"fraud\",\"normal\"],\n",
    "                    rounded = True, proportion = False, \n",
    "                    precision = 2, filled = True)\n",
    "    graph = pydotplus.graph_from_dot_data(tree_data)\n",
    "\n",
    "    colors = ('turquoise', 'orange')\n",
    "    edges = collections.defaultdict(list)\n",
    "\n",
    "    for edge in graph.get_edge_list():\n",
    "        edges[edge.get_source()].append(int(edge.get_destination()))\n",
    "\n",
    "    for edge in edges:\n",
    "        edges[edge].sort()    \n",
    "        for i in range(2):\n",
    "            dest = graph.get_node(str(edges[edge][i]))[0]\n",
    "            dest.set_fillcolor(colors[i])\n",
    "    graph.write_png(name+\".png\")"
   ]
  },
  {
   "cell_type": "code",
   "execution_count": 25,
   "metadata": {},
   "outputs": [],
   "source": [
    "for i in range(4):\n",
    "    draw_tree(clf.estimators_[i],str(i))"
   ]
  }
 ],
 "metadata": {
  "kernelspec": {
   "display_name": "Python 3",
   "language": "python",
   "name": "python3"
  },
  "language_info": {
   "codemirror_mode": {
    "name": "ipython",
    "version": 3
   },
   "file_extension": ".py",
   "mimetype": "text/x-python",
   "name": "python",
   "nbconvert_exporter": "python",
   "pygments_lexer": "ipython3",
   "version": "3.6.8"
  }
 },
 "nbformat": 4,
 "nbformat_minor": 2
}
